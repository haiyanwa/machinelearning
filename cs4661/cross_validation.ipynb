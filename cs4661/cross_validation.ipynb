{
 "cells": [
  {
   "cell_type": "code",
   "execution_count": 1,
   "metadata": {
    "collapsed": true
   },
   "outputs": [],
   "source": [
    "import numpy as np\n",
    "import pandas as pd"
   ]
  },
  {
   "cell_type": "code",
   "execution_count": 2,
   "metadata": {
    "collapsed": false
   },
   "outputs": [
    {
     "data": {
      "text/html": [
       "<div>\n",
       "<table border=\"1\" class=\"dataframe\">\n",
       "  <thead>\n",
       "    <tr style=\"text-align: right;\">\n",
       "      <th></th>\n",
       "      <th>Income</th>\n",
       "      <th>Limit</th>\n",
       "      <th>Rating</th>\n",
       "      <th>Cards</th>\n",
       "      <th>Age</th>\n",
       "      <th>Education</th>\n",
       "      <th>Married</th>\n",
       "      <th>Balance</th>\n",
       "    </tr>\n",
       "  </thead>\n",
       "  <tbody>\n",
       "    <tr>\n",
       "      <th>0</th>\n",
       "      <td>14.891</td>\n",
       "      <td>3606</td>\n",
       "      <td>283</td>\n",
       "      <td>2</td>\n",
       "      <td>34</td>\n",
       "      <td>11</td>\n",
       "      <td>1</td>\n",
       "      <td>333</td>\n",
       "    </tr>\n",
       "    <tr>\n",
       "      <th>1</th>\n",
       "      <td>106.025</td>\n",
       "      <td>6645</td>\n",
       "      <td>483</td>\n",
       "      <td>3</td>\n",
       "      <td>82</td>\n",
       "      <td>15</td>\n",
       "      <td>1</td>\n",
       "      <td>903</td>\n",
       "    </tr>\n",
       "    <tr>\n",
       "      <th>2</th>\n",
       "      <td>104.593</td>\n",
       "      <td>7075</td>\n",
       "      <td>514</td>\n",
       "      <td>4</td>\n",
       "      <td>71</td>\n",
       "      <td>11</td>\n",
       "      <td>0</td>\n",
       "      <td>580</td>\n",
       "    </tr>\n",
       "    <tr>\n",
       "      <th>3</th>\n",
       "      <td>148.924</td>\n",
       "      <td>9504</td>\n",
       "      <td>681</td>\n",
       "      <td>3</td>\n",
       "      <td>36</td>\n",
       "      <td>11</td>\n",
       "      <td>0</td>\n",
       "      <td>964</td>\n",
       "    </tr>\n",
       "    <tr>\n",
       "      <th>4</th>\n",
       "      <td>55.882</td>\n",
       "      <td>4897</td>\n",
       "      <td>357</td>\n",
       "      <td>2</td>\n",
       "      <td>68</td>\n",
       "      <td>16</td>\n",
       "      <td>1</td>\n",
       "      <td>331</td>\n",
       "    </tr>\n",
       "  </tbody>\n",
       "</table>\n",
       "</div>"
      ],
      "text/plain": [
       "    Income  Limit  Rating  Cards  Age  Education  Married  Balance\n",
       "0   14.891   3606     283      2   34         11        1      333\n",
       "1  106.025   6645     483      3   82         15        1      903\n",
       "2  104.593   7075     514      4   71         11        0      580\n",
       "3  148.924   9504     681      3   36         11        0      964\n",
       "4   55.882   4897     357      2   68         16        1      331"
      ]
     },
     "execution_count": 2,
     "metadata": {},
     "output_type": "execute_result"
    }
   ],
   "source": [
    "credit_df = pd.read_csv('/Users/apple/Documents/CSULA/CS461/HW3/Credit.csv')\n",
    "credit_df.head()"
   ]
  },
  {
   "cell_type": "code",
   "execution_count": 3,
   "metadata": {
    "collapsed": false
   },
   "outputs": [
    {
     "name": "stdout",
     "output_type": "stream",
     "text": [
      "     Income     Limit    Rating     Cards       Age  Education  Married\n",
      "0  0.079787  0.259182  0.288187  0.222222  0.346939       0.55        1\n",
      "1  0.568090  0.477611  0.491853  0.333333  0.836735       0.75        1\n",
      "2  0.560418  0.508517  0.523422  0.444444  0.724490       0.55        0\n",
      "3  0.797947  0.683102  0.693483  0.333333  0.367347       0.55        0\n",
      "4  0.299420  0.351973  0.363544  0.222222  0.693878       0.80        1\n"
     ]
    }
   ],
   "source": [
    "##normalize function\n",
    "def normalize(col):\n",
    "    colmax = max(col)\n",
    "    #print(colmax)\n",
    "    col_s=[]\n",
    "    for n in col:\n",
    "        n_s = (n/colmax)\n",
    "        col_s.append(n_s)\n",
    "    return col_s\n",
    "\n",
    "feature_cols = ['Income','Limit','Rating','Cards','Age','Education']\n",
    "\n",
    "##new matrix with selected features which need to be normalized\n",
    "credit_df_tmp = credit_df[feature_cols]\n",
    "\n",
    "##print(max(credit_df['Balance']))\n",
    "\n",
    "##new matrix for normalized training andy testing data\n",
    "X= pd.DataFrame()\n",
    "\n",
    "for f in feature_cols:\n",
    "    normalized_col = normalize(credit_df_tmp[f])\n",
    "    X[f] = normalized_col\n",
    "X['Married'] =  credit_df['Married']   \n",
    "print(X.head())\n",
    "\n",
    "##target vector\n",
    "y = credit_df['Balance']\n",
    "#print(y.head())"
   ]
  },
  {
   "cell_type": "code",
   "execution_count": 4,
   "metadata": {
    "collapsed": false
   },
   "outputs": [],
   "source": [
    "##split dataset to traning and testing data\n",
    "from sklearn.cross_validation import train_test_split\n",
    "\n",
    "X_train, X_test, y_train, y_test = train_test_split(X, y, test_size=0.2, random_state=2)\n",
    "#print(X_train.shape)\n",
    "#print(y_train.shape)\n",
    "#print(X_test.shape)\n",
    "#print(y_test.shape)"
   ]
  },
  {
   "cell_type": "code",
   "execution_count": 5,
   "metadata": {
    "collapsed": false
   },
   "outputs": [
    {
     "data": {
      "text/plain": [
       "LinearRegression(copy_X=True, fit_intercept=True, n_jobs=1, normalize=False)"
      ]
     },
     "execution_count": 5,
     "metadata": {},
     "output_type": "execute_result"
    }
   ],
   "source": [
    "from sklearn.linear_model import LinearRegression\n",
    "my_linreg = LinearRegression()\n",
    "my_linreg.fit(X_train, y_train)"
   ]
  },
  {
   "cell_type": "code",
   "execution_count": 6,
   "metadata": {
    "collapsed": false
   },
   "outputs": [
    {
     "name": "stdout",
     "output_type": "stream",
     "text": [
      "-451.390136282\n",
      "[-1413.47222539  1357.75410875  2441.3004289    103.52548744  -102.02433542\n",
      "    40.34044338   -48.45522561]\n"
     ]
    }
   ],
   "source": [
    "print(my_linreg.intercept_)\n",
    "print(my_linreg.coef_)"
   ]
  },
  {
   "cell_type": "code",
   "execution_count": 7,
   "metadata": {
    "collapsed": false
   },
   "outputs": [
    {
     "data": {
      "text/markdown": [
       "The best feature is Rating and the least important feature is education"
      ],
      "text/plain": [
       "<IPython.core.display.Markdown object>"
      ]
     },
     "execution_count": 7,
     "metadata": {},
     "output_type": "execute_result"
    }
   ],
   "source": [
    "from IPython.display import Markdown\n",
    "Markdown(\"The best feature is Rating and the least important feature is education\")"
   ]
  },
  {
   "cell_type": "code",
   "execution_count": 8,
   "metadata": {
    "collapsed": false
   },
   "outputs": [
    {
     "name": "stdout",
     "output_type": "stream",
     "text": [
      "[  187.83259081   696.19359653  1008.45870602   602.54553619  1005.89421809\n",
      "   689.53276161   912.63981066   265.93761365   921.40430581  1097.28246448\n",
      "   561.24806805   347.10203229   793.92182702   133.99552456   831.68509878\n",
      "   154.29201659  1391.55139882  -127.61911507   946.8333401    719.02865483\n",
      "   593.49954528    82.58696538    75.58160302   -69.92762404   480.22371194\n",
      "  -153.93316298   290.58134942   588.66521868   908.95132202   887.83016569\n",
      "  -215.31132242   421.56659575    31.96584993  -265.81389094   925.49231108\n",
      "  1229.55288913   382.92814713   934.30680369  1763.56079475   845.73667161\n",
      "   810.02069387   502.35960813   380.43477228   448.20831629   673.02981403\n",
      "   492.00309225   589.86815721  1092.19775167   521.63311942   689.99089979\n",
      "   799.4973836    265.38602315  1542.56678822  1188.82234981   303.81822799\n",
      "   848.83393296  -152.65676468   634.77873681   266.10574461   828.42364016\n",
      "   400.56060336   571.89835366   -15.19680339   982.77736906  -194.71974119\n",
      "   751.71775232   486.69746454   333.10675258  1063.15591078   972.70541837\n",
      "   -80.21890573   597.37341198   708.83693482   397.51259999   623.49553554\n",
      "   997.69797824   614.01791858   655.87801862   519.98827377   407.09335709]\n"
     ]
    }
   ],
   "source": [
    "y_prediction = my_linreg.predict(X_test)\n",
    "print(y_prediction)"
   ]
  },
  {
   "cell_type": "code",
   "execution_count": 9,
   "metadata": {
    "collapsed": false
   },
   "outputs": [
    {
     "name": "stdout",
     "output_type": "stream",
     "text": [
      "154.410746767\n"
     ]
    }
   ],
   "source": [
    "from sklearn import metrics\n",
    "mse = metrics.mean_squared_error(y_test, y_prediction)\n",
    "rmse = np.sqrt(mse)\n",
    "print(rmse)"
   ]
  },
  {
   "cell_type": "code",
   "execution_count": 10,
   "metadata": {
    "collapsed": false
   },
   "outputs": [
    {
     "name": "stdout",
     "output_type": "stream",
     "text": [
      "[-23646.90415343 -32003.04401232 -35462.64435619 -37327.60719635\n",
      " -14341.32205939 -33628.37104224 -31631.99317834 -12491.00334951\n",
      " -20749.61212175 -23204.94743459]\n",
      "[ 153.7754992   178.89394627  188.31527914  193.20353826  119.75525901\n",
      "  183.38039983  177.85385343  111.76315739  144.04725656  152.331702  ]\n"
     ]
    }
   ],
   "source": [
    "from sklearn.cross_validation import cross_val_score\n",
    "mse_list = cross_val_score(my_linreg, X, y, cv=10, scoring='mean_squared_error')\n",
    "print(mse_list)\n",
    "\n",
    "mse_list_positive = -mse_list\n",
    "rmse_list = np.sqrt(mse_list_positive)\n",
    "print(rmse_list)"
   ]
  },
  {
   "cell_type": "code",
   "execution_count": 11,
   "metadata": {
    "collapsed": false
   },
   "outputs": [
    {
     "name": "stdout",
     "output_type": "stream",
     "text": [
      "160.331989107\n"
     ]
    }
   ],
   "source": [
    "print(rmse_list.mean())"
   ]
  },
  {
   "cell_type": "code",
   "execution_count": null,
   "metadata": {
    "collapsed": true
   },
   "outputs": [],
   "source": []
  }
 ],
 "metadata": {
  "anaconda-cloud": {},
  "kernelspec": {
   "display_name": "Python [Root]",
   "language": "python",
   "name": "Python [Root]"
  },
  "language_info": {
   "codemirror_mode": {
    "name": "ipython",
    "version": 3
   },
   "file_extension": ".py",
   "mimetype": "text/x-python",
   "name": "python",
   "nbconvert_exporter": "python",
   "pygments_lexer": "ipython3",
   "version": "3.5.2"
  }
 },
 "nbformat": 4,
 "nbformat_minor": 0
}
