{
 "cells": [
  {
   "cell_type": "code",
   "execution_count": 238,
   "metadata": {
    "collapsed": false
   },
   "outputs": [],
   "source": [
    "###Implement K-mean Algorithm\n",
    "from sklearn import preprocessing\n",
    "import numpy as np\n",
    "import pandas as pd\n",
    "import copy\n",
    "from numpy.linalg import norm"
   ]
  },
  {
   "cell_type": "code",
   "execution_count": 239,
   "metadata": {
    "collapsed": false
   },
   "outputs": [
    {
     "name": "stdout",
     "output_type": "stream",
     "text": [
      "this is a DataFrame\n",
      "debug diff:  62\n",
      "debug diff:  20\n",
      "debug diff:  8\n",
      "debug diff:  4\n",
      "length_new [56, 54, 40]\n"
     ]
    }
   ],
   "source": [
    "def find_cluster(df, k, centers):\n",
    "    \n",
    "    #if isinstance(df, pd.DataFrame):\n",
    "    #    print(\"this is a df\")\n",
    "    #else:\n",
    "    #    print(\"not a df, exit\")\n",
    "        \n",
    "    # normalize it\n",
    "    df = preprocessing.scale(df)\n",
    "    \n",
    "    data_c_arr= {}\n",
    "    \n",
    "    for n in range(len(df)):\n",
    "        c_num=0  ##cluster number\n",
    "        ###find smallest distance to k centers and the center number\n",
    "        d_arr = []\n",
    "        for i in range(k):\n",
    "            d = norm(df[n] - centers[i])\n",
    "            d_arr.append(d)\n",
    "        c_num = d_arr.index(min(d_arr))\n",
    "        ## data n belongs to cluster c_num\n",
    "        data_c_arr[n] = c_num\n",
    "    return data_c_arr\n",
    "\n",
    "def find_centers(df,data_c_arr,k):\n",
    "\n",
    "    data_c = {}\n",
    "    column = []\n",
    "    ##get new centers\n",
    "    for i in range(k):\n",
    "        data_c[i] = []\n",
    "    for j in range(len(df[0])):\n",
    "        column.append(j)\n",
    "    ##clusters: data_c[0], data_c[1]...data_c[k]\n",
    "    for n in range(len(data_c_arr)):\n",
    "        data_c[data_c_arr[n]].append(df[n])\n",
    "    center_new = {}\n",
    "    for i in range(k):\n",
    "        df_n = pd.DataFrame(data_c[i],columns=column)\n",
    "        center_new[i] = df_n.mean()\n",
    "    return center_new\n",
    "\n",
    "def get_cluster_len(data_c_arr,k):\n",
    "    data_c = {}\n",
    "    for i in range(k):\n",
    "        data_c[i] = []\n",
    "    for n in range(len(data_c_arr)):\n",
    "        data_c[data_c_arr[n]].append(1)\n",
    "    ##cluster length\n",
    "    c_length = []\n",
    "    for i in range(k):\n",
    "        c_length.append(len(data_c[i]))\n",
    "    return c_length\n",
    "\n",
    "def my_kmean(df, k):\n",
    "    ##df should be a DataFrame\n",
    "    if isinstance(df, pd.DataFrame):\n",
    "        print(\"this is a DataFrame\")\n",
    "    else:\n",
    "        print(\"not a DataFrame, exit\")\n",
    "    \n",
    "    # normalize it\n",
    "    df = preprocessing.scale(df)\n",
    "    \n",
    "    ##D dimention \n",
    "    d = len(df[0])\n",
    "    \n",
    "    ##ramdomly generate k centers to start\n",
    "    centers = {}\n",
    "    for i in range(k):\n",
    "        c = np.random.rand(d, 1)\n",
    "        centers[i] = c\n",
    "    \n",
    "    ##find clusters based on centers\n",
    "    data_c_arr = find_cluster(df,k,centers)\n",
    "    \n",
    "    length = get_cluster_len(data_c_arr,k)\n",
    "    ##while(true):\n",
    "    for i in range(10):\n",
    "        centers_new = find_centers(df, data_c_arr, k)\n",
    "        data_c_arr_new =  find_cluster(df, k, centers_new)\n",
    "        length_new = get_cluster_len(data_c_arr_new,k)\n",
    "        diff = 0\n",
    "        for i in range(len(length_new)):\n",
    "            diff = abs(length[i]-length_new[i]) + diff\n",
    "        print(\"debug diff: \", diff)\n",
    "        if(diff / len(df) < 0.05):\n",
    "            ##print(\"very small diff, return already!\")\n",
    "            print(\"length_new\", length_new)\n",
    "            ##return centers_new\n",
    "            return data_c_arr_new\n",
    "        ##print(\"length\", length)\n",
    "        ##print(\"length_new\", length_new)\n",
    "        length=[]\n",
    "        length = length_new[:]\n",
    "        \n",
    "        data_c_arr =[]\n",
    "        data_c_arr = copy.copy(data_c_arr_new)\n",
    "    ##return centers_new\n",
    "    return data_c_arr_new\n",
    "\n",
    "if __name__ == '__main__':\n",
    "    iris_df = pd.DataFrame()\n",
    "    iris_df = pd.read_csv('iris.csv')\n",
    "    #df = iris_df[['sepal_length','sepal_width','petal_length','petal_width']]\n",
    "    df = iris_df[['sepal_length','petal_width']]\n",
    "\n",
    "    \n",
    "    data_cluster = my_kmean(df, 3)\n",
    "    #print(data_cluster)\n",
    "    data_c = {}\n",
    "    for i in range(3):\n",
    "        data_c[i] = []\n",
    "    np_df = df.as_matrix()\n",
    "    for n in range(len(data_cluster)):\n",
    "        data_c[data_c_arr[n]].append(np_df[n])"
   ]
  },
  {
   "cell_type": "code",
   "execution_count": 240,
   "metadata": {
    "collapsed": false
   },
   "outputs": [
    {
     "name": "stdout",
     "output_type": "stream",
     "text": [
      "[1 1 1 1 1 1 1 1 1 1 1 1 1 1 1 1 1 1 1 1 1 1 1 1 1 1 1 1 1 1 1 1 1 1 1 1 1\n",
      " 1 1 1 1 1 1 1 1 1 1 1 1 1 2 0 2 0 0 0 0 1 0 0 1 0 0 0 0 2 0 0 0 0 0 0 0 0\n",
      " 0 0 2 2 0 0 0 0 0 0 0 0 2 0 0 0 0 0 0 1 0 0 0 0 1 0 2 0 2 0 2 2 0 2 2 2 2\n",
      " 2 2 0 0 2 2 2 2 0 2 0 2 0 2 2 0 0 2 2 2 2 2 0 0 2 2 2 0 2 2 2 0 2 2 2 0 2\n",
      " 2 0]\n"
     ]
    }
   ],
   "source": [
    "##get values from data_cluster dict to form lables\n",
    "labels = []\n",
    "for v in (data_cluster.values()):\n",
    "    labels.append(v)\n",
    "from numpy import array\n",
    "label_arr = array(labels)\n",
    "print(label_arr)"
   ]
  },
  {
   "cell_type": "code",
   "execution_count": 241,
   "metadata": {
    "collapsed": false
   },
   "outputs": [
    {
     "data": {
      "image/png": "[encoded data removed]",
      "text/plain": [
       "<matplotlib.figure.Figure at 0x119d37198>"
      ]
     },
     "metadata": {},
     "output_type": "display_data"
    }
   ],
   "source": [
    "import matplotlib.pyplot as plt\n",
    "\n",
    "%matplotlib inline\n",
    "plt.figure()\n",
    "for i in range(3):\n",
    "    row_index = label_arr==i\n",
    "    ds = df.loc[row_index]\n",
    "    plt.plot(ds.iloc[:,0],ds.iloc[:,1],'o') \n",
    "plt.axis([4, 8, 0, 3])\n",
    "plt.show()\n"
   ]
  },
  {
   "cell_type": "code",
   "execution_count": 242,
   "metadata": {
    "collapsed": false
   },
   "outputs": [
    {
     "name": "stdout",
     "output_type": "stream",
     "text": [
      "[1 1 1 1 1 1 1 1 1 1 1 1 1 1 1 1 1 1 1 1 1 1 1 1 1 1 1 1 1 1 1 1 1 1 1 1 1\n",
      " 1 1 1 1 1 1 1 1 1 1 1 1 1 0 2 0 2 0 2 2 1 0 2 1 2 2 2 2 0 2 2 2 2 2 2 2 2\n",
      " 2 0 0 0 2 2 2 2 2 2 2 2 0 2 2 2 2 2 2 1 2 2 2 2 1 2 0 2 0 2 0 0 2 0 0 0 0\n",
      " 0 0 2 2 0 0 0 0 2 0 2 0 2 0 0 2 2 0 0 0 0 0 2 2 0 0 0 2 0 0 0 2 0 0 0 0 0\n",
      " 0 2]\n"
     ]
    }
   ],
   "source": [
    "from sklearn.cluster import KMeans\n",
    "df1 = iris_df[['sepal_length','petal_width']]\n",
    "my_Kmeans = KMeans(n_clusters=3)\n",
    "my_Kmeans.fit(df1)\n",
    "label_clustered = my_Kmeans.labels_\n",
    "print(label_clustered)"
   ]
  },
  {
   "cell_type": "code",
   "execution_count": 243,
   "metadata": {
    "collapsed": false
   },
   "outputs": [
    {
     "data": {
      "image/png": "[encoded data removed]",
      "text/plain": [
       "<matplotlib.figure.Figure at 0x119dd77b8>"
      ]
     },
     "metadata": {},
     "output_type": "display_data"
    }
   ],
   "source": [
    "for i in range(3):\n",
    "    row_index = label_clustered==i\n",
    "    ds = df1.loc[row_index]\n",
    "    plt.plot(ds.iloc[:,0],ds.iloc[:,1],'o')\n",
    "plt.show()"
   ]
  },
  {
   "cell_type": "code",
   "execution_count": 244,
   "metadata": {
    "collapsed": false
   },
   "outputs": [
    {
     "data": {
      "text/plain": [
       "'\\nThe result from my_kmean function is very close to the result by Kmean from sklearn.cluster\\n'"
      ]
     },
     "execution_count": 244,
     "metadata": {},
     "output_type": "execute_result"
    }
   ],
   "source": [
    "'''\n",
    "The result from my_kmean function is very close to the result by Kmean from sklearn.cluster\n",
    "'''"
   ]
  }
 ],
 "metadata": {
  "anaconda-cloud": {},
  "kernelspec": {
   "display_name": "Python [Root]",
   "language": "python",
   "name": "Python [Root]"
  },
  "language_info": {
   "codemirror_mode": {
    "name": "ipython",
    "version": 3
   },
   "file_extension": ".py",
   "mimetype": "text/x-python",
   "name": "python",
   "nbconvert_exporter": "python",
   "pygments_lexer": "ipython3",
   "version": "3.5.2"
  }
 },
 "nbformat": 4,
 "nbformat_minor": 0
}
