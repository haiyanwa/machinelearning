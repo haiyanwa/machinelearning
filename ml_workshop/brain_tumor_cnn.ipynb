{
 "cells": [
  {
   "cell_type": "code",
   "execution_count": 20,
   "id": "ab9de9b9",
   "metadata": {},
   "outputs": [],
   "source": [
    "from utils import *\n",
    "import os\n",
    "import random\n",
    "import pickle\n",
    "from PIL import Image\n",
    "import pandas as pd\n",
    "import tensorflow as tf\n",
    "from tensorflow.keras import layers\n",
    "from tensorflow.keras.models import Sequential\n",
    "from tensorflow.keras.layers import Input, Conv2D, MaxPool2D, Flatten, Dense\n",
    "from tensorflow.keras import Model"
   ]
  },
  {
   "cell_type": "code",
   "execution_count": 21,
   "id": "5cf41f74",
   "metadata": {},
   "outputs": [],
   "source": [
    "data_path = \"/Users/hwang_1/Documents/scripts/python/ml/scripts/projects/brain_tumor/data\"\n",
    "images_dir = \"images\"\n",
    "image_path = os.path.join(data_path,images_dir)"
   ]
  },
  {
   "cell_type": "code",
   "execution_count": 22,
   "id": "d3e9107e",
   "metadata": {},
   "outputs": [],
   "source": [
    "train_dir = os.path.join(image_path, \"train\")\n",
    "test_dir = os.path.join(image_path, \"test\") \n",
    "val_dir = os.path.join(image_path, \"val\")\n",
    "train_pos_dir = os.path.join(train_dir, \"1\")  ##positive image folder\n",
    "train_neg_dir = os.path.join(train_dir, \"0\")  ##negative image folder\n",
    "val_pos_dir = os.path.join(val_dir, \"1\")\n",
    "val_neg_dir = os.path.join(val_dir, \"0\")\n",
    "test_pos_dir = os.path.join(test_dir, \"1\")\n",
    "test_neg_dir = os.path.join(test_dir, \"0\")"
   ]
  },
  {
   "cell_type": "code",
   "execution_count": 23,
   "id": "5a8e085c",
   "metadata": {},
   "outputs": [
    {
     "name": "stdout",
     "output_type": "stream",
     "text": [
      "Found 3386 files belonging to 2 classes.\n"
     ]
    }
   ],
   "source": [
    "##generate a dataset from the images folder\n",
    "train_data = tf.keras.preprocessing.image_dataset_from_directory(directory=train_dir,\n",
    "                                                           image_size=(240,240),\n",
    "                                                           labels=\"inferred\",\n",
    "                                                           class_names=None,\n",
    "                                                           label_mode=\"binary\",\n",
    "                                                           color_mode='grayscale',\n",
    "                                                           shuffle=True,\n",
    "                                                           batch_size=32)"
   ]
  },
  {
   "cell_type": "code",
   "execution_count": 24,
   "id": "cb6e1a63",
   "metadata": {},
   "outputs": [
    {
     "name": "stdout",
     "output_type": "stream",
     "text": [
      "Found 188 files belonging to 2 classes.\n"
     ]
    }
   ],
   "source": [
    "val_data = tf.keras.preprocessing.image_dataset_from_directory(directory=val_dir,\n",
    "                                                           image_size=(240,240),\n",
    "                                                           labels=\"inferred\",\n",
    "                                                           class_names=None,\n",
    "                                                           label_mode=\"binary\",\n",
    "                                                           color_mode='grayscale',\n",
    "                                                           batch_size=32)"
   ]
  },
  {
   "cell_type": "code",
   "execution_count": 25,
   "id": "d269e252",
   "metadata": {},
   "outputs": [
    {
     "name": "stdout",
     "output_type": "stream",
     "text": [
      "Found 188 files belonging to 2 classes.\n"
     ]
    }
   ],
   "source": [
    "test_data = tf.keras.preprocessing.image_dataset_from_directory(directory=test_dir,\n",
    "                                                           image_size=(240,240),\n",
    "                                                           labels=\"inferred\",\n",
    "                                                           class_names=None,\n",
    "                                                           label_mode=\"binary\",\n",
    "                                                           color_mode='grayscale',\n",
    "                                                           shuffle=True,\n",
    "                                                           batch_size=32)"
   ]
  },
  {
   "cell_type": "code",
   "execution_count": 26,
   "id": "eebeee40",
   "metadata": {},
   "outputs": [],
   "source": [
    "def normalize(image,label):\n",
    "    image = tf.cast(image/255.,tf.float16)\n",
    "    label = tf.cast(label,tf.float16)\n",
    "    return image,label"
   ]
  },
  {
   "cell_type": "code",
   "execution_count": 27,
   "id": "0bb1a4b0",
   "metadata": {},
   "outputs": [],
   "source": [
    "train_data = train_data.map(normalize)"
   ]
  },
  {
   "cell_type": "code",
   "execution_count": 28,
   "id": "bd7b712b",
   "metadata": {},
   "outputs": [],
   "source": [
    "val_data = val_data.map(normalize)"
   ]
  },
  {
   "cell_type": "code",
   "execution_count": 29,
   "id": "b8afdf10",
   "metadata": {},
   "outputs": [],
   "source": [
    "test_data = test_data.map(normalize)"
   ]
  },
  {
   "cell_type": "code",
   "execution_count": 30,
   "id": "d0441e7d",
   "metadata": {},
   "outputs": [
    {
     "data": {
      "text/plain": [
       "<MapDataset element_spec=(TensorSpec(shape=(None, 240, 240, 1), dtype=tf.float16, name=None), TensorSpec(shape=(None, 1), dtype=tf.float16, name=None))>"
      ]
     },
     "execution_count": 30,
     "metadata": {},
     "output_type": "execute_result"
    }
   ],
   "source": [
    "train_data"
   ]
  },
  {
   "cell_type": "code",
   "execution_count": 31,
   "id": "1cb4f96b",
   "metadata": {},
   "outputs": [
    {
     "data": {
      "text/plain": [
       "106"
      ]
     },
     "execution_count": 31,
     "metadata": {},
     "output_type": "execute_result"
    }
   ],
   "source": [
    "len(train_data)"
   ]
  },
  {
   "cell_type": "code",
   "execution_count": 32,
   "id": "9e46d37f",
   "metadata": {},
   "outputs": [],
   "source": [
    "input = Input(shape=(240, 240, 1))"
   ]
  },
  {
   "cell_type": "markdown",
   "id": "a73657d3",
   "metadata": {},
   "source": [
    "**Conv2D**\n",
    "- filters: Number of filters\n",
    "\n",
    "- kernel_size: filter matrix size, 3x3 in this example\n",
    "\n",
    "- padding=\"same\": output will keep the same size of the input "
   ]
  },
  {
   "cell_type": "code",
   "execution_count": 33,
   "id": "ef0dc79e",
   "metadata": {},
   "outputs": [],
   "source": [
    "##Build a small CCN model\n",
    "x = Conv2D(filters=16, kernel_size=3, padding=\"same\", activation=\"relu\")(input)\n",
    "x = MaxPool2D(pool_size=2, strides=2)(x)                         \n",
    "x = Conv2D(filters=32, kernel_size=3, padding=\"same\", activation=\"relu\")(x)\n",
    "x = MaxPool2D(pool_size=2, strides=2)(x)\n",
    "x = Conv2D(filters=64, kernel_size=3, padding=\"same\", activation=\"relu\")(x)\n",
    "x = MaxPool2D(pool_size=2, strides=2)(x)\n",
    "x = Flatten()(x)\n",
    "x = Dense(4096, activation=\"relu\")(x)\n",
    "\n",
    "output = Dense(units=1, activation=\"sigmoid\")(x)"
   ]
  },
  {
   "cell_type": "code",
   "execution_count": 34,
   "id": "f5966b21",
   "metadata": {},
   "outputs": [
    {
     "name": "stdout",
     "output_type": "stream",
     "text": [
      "Model: \"model\"\n",
      "_________________________________________________________________\n",
      " Layer (type)                Output Shape              Param #   \n",
      "=================================================================\n",
      " input_2 (InputLayer)        [(None, 240, 240, 1)]     0         \n",
      "                                                                 \n",
      " conv2d (Conv2D)             (None, 240, 240, 16)      160       \n",
      "                                                                 \n",
      " max_pooling2d (MaxPooling2D  (None, 120, 120, 16)     0         \n",
      " )                                                               \n",
      "                                                                 \n",
      " conv2d_1 (Conv2D)           (None, 120, 120, 32)      4640      \n",
      "                                                                 \n",
      " max_pooling2d_1 (MaxPooling  (None, 60, 60, 32)       0         \n",
      " 2D)                                                             \n",
      "                                                                 \n",
      " conv2d_2 (Conv2D)           (None, 60, 60, 64)        18496     \n",
      "                                                                 \n",
      " max_pooling2d_2 (MaxPooling  (None, 30, 30, 64)       0         \n",
      " 2D)                                                             \n",
      "                                                                 \n",
      " flatten (Flatten)           (None, 57600)             0         \n",
      "                                                                 \n",
      " dense (Dense)               (None, 4096)              235933696 \n",
      "                                                                 \n",
      " dense_1 (Dense)             (None, 1)                 4097      \n",
      "                                                                 \n",
      "=================================================================\n",
      "Total params: 235,961,089\n",
      "Trainable params: 235,961,089\n",
      "Non-trainable params: 0\n",
      "_________________________________________________________________\n"
     ]
    }
   ],
   "source": [
    "model_cnn = Model(inputs=input, outputs=output)\n",
    "model_cnn.summary()"
   ]
  },
  {
   "cell_type": "code",
   "execution_count": 35,
   "id": "b5442dc4",
   "metadata": {},
   "outputs": [],
   "source": [
    "model_cnn.compile(loss=\"binary_crossentropy\",\n",
    "                   optimizer=tf.keras.optimizers.Adam(),\n",
    "                   metrics=[\"accuracy\"])"
   ]
  },
  {
   "cell_type": "code",
   "execution_count": 36,
   "id": "c33a3f58",
   "metadata": {},
   "outputs": [
    {
     "name": "stdout",
     "output_type": "stream",
     "text": [
      "Epoch 1/30\n"
     ]
    },
    {
     "name": "stderr",
     "output_type": "stream",
     "text": [
      "2023-10-28 21:19:33.438683: I tensorflow/core/grappler/optimizers/custom_graph_optimizer_registry.cc:113] Plugin optimizer for device_type GPU is enabled.\n"
     ]
    },
    {
     "name": "stdout",
     "output_type": "stream",
     "text": [
      "106/106 [==============================] - ETA: 0s - loss: 0.4266 - accuracy: 0.8151"
     ]
    },
    {
     "name": "stderr",
     "output_type": "stream",
     "text": [
      "2023-10-28 21:19:43.030433: I tensorflow/core/grappler/optimizers/custom_graph_optimizer_registry.cc:113] Plugin optimizer for device_type GPU is enabled.\n"
     ]
    },
    {
     "name": "stdout",
     "output_type": "stream",
     "text": [
      "106/106 [==============================] - 10s 84ms/step - loss: 0.4266 - accuracy: 0.8151 - val_loss: 0.3172 - val_accuracy: 0.8883\n",
      "Epoch 2/30\n",
      "106/106 [==============================] - 9s 83ms/step - loss: 0.2463 - accuracy: 0.9011 - val_loss: 0.2588 - val_accuracy: 0.8830\n",
      "Epoch 3/30\n",
      "106/106 [==============================] - 9s 83ms/step - loss: 0.1754 - accuracy: 0.9341 - val_loss: 0.3076 - val_accuracy: 0.8883\n",
      "Epoch 4/30\n",
      "106/106 [==============================] - 9s 83ms/step - loss: 0.1219 - accuracy: 0.9527 - val_loss: 0.2660 - val_accuracy: 0.9149\n",
      "Epoch 5/30\n",
      "106/106 [==============================] - 9s 83ms/step - loss: 0.0822 - accuracy: 0.9657 - val_loss: 0.1746 - val_accuracy: 0.9415\n",
      "Epoch 6/30\n",
      "106/106 [==============================] - 9s 83ms/step - loss: 0.0805 - accuracy: 0.9714 - val_loss: 0.2318 - val_accuracy: 0.9415\n",
      "Epoch 7/30\n",
      "106/106 [==============================] - 9s 84ms/step - loss: 0.0310 - accuracy: 0.9891 - val_loss: 0.3149 - val_accuracy: 0.9362\n",
      "Epoch 8/30\n",
      "106/106 [==============================] - 9s 83ms/step - loss: 0.0336 - accuracy: 0.9908 - val_loss: 0.2147 - val_accuracy: 0.9415\n",
      "Epoch 9/30\n",
      "106/106 [==============================] - 9s 82ms/step - loss: 0.0211 - accuracy: 0.9950 - val_loss: 0.2323 - val_accuracy: 0.9362\n",
      "Epoch 10/30\n",
      "106/106 [==============================] - 9s 82ms/step - loss: 0.0253 - accuracy: 0.9911 - val_loss: 0.1341 - val_accuracy: 0.9521\n",
      "Epoch 11/30\n",
      "106/106 [==============================] - 9s 82ms/step - loss: 0.0121 - accuracy: 0.9947 - val_loss: 0.1501 - val_accuracy: 0.9574\n",
      "Epoch 12/30\n",
      "106/106 [==============================] - 9s 83ms/step - loss: 0.0269 - accuracy: 0.9917 - val_loss: 0.1552 - val_accuracy: 0.9574\n",
      "Epoch 13/30\n",
      "106/106 [==============================] - 9s 82ms/step - loss: 0.0528 - accuracy: 0.9799 - val_loss: 0.2492 - val_accuracy: 0.9521\n",
      "Epoch 14/30\n",
      "106/106 [==============================] - 9s 82ms/step - loss: 0.0119 - accuracy: 0.9962 - val_loss: 0.2496 - val_accuracy: 0.9521\n",
      "Epoch 15/30\n",
      "106/106 [==============================] - 9s 83ms/step - loss: 0.0200 - accuracy: 0.9935 - val_loss: 0.3622 - val_accuracy: 0.9096\n",
      "Epoch 16/30\n",
      "106/106 [==============================] - 9s 83ms/step - loss: 0.0107 - accuracy: 0.9973 - val_loss: 0.1959 - val_accuracy: 0.9574\n",
      "Epoch 17/30\n",
      "106/106 [==============================] - 9s 82ms/step - loss: 0.0111 - accuracy: 0.9959 - val_loss: 0.2314 - val_accuracy: 0.9574\n",
      "Epoch 18/30\n",
      "106/106 [==============================] - 9s 82ms/step - loss: 0.0083 - accuracy: 0.9965 - val_loss: 0.4733 - val_accuracy: 0.9255\n",
      "Epoch 19/30\n",
      "106/106 [==============================] - 9s 83ms/step - loss: 0.0141 - accuracy: 0.9953 - val_loss: 0.3469 - val_accuracy: 0.9309\n",
      "Epoch 20/30\n",
      "106/106 [==============================] - 9s 83ms/step - loss: 0.0226 - accuracy: 0.9917 - val_loss: 0.2439 - val_accuracy: 0.9468\n",
      "Epoch 21/30\n",
      "106/106 [==============================] - 9s 83ms/step - loss: 0.0015 - accuracy: 0.9997 - val_loss: 0.1926 - val_accuracy: 0.9574\n",
      "Epoch 22/30\n",
      "106/106 [==============================] - 9s 83ms/step - loss: 1.6335e-04 - accuracy: 1.0000 - val_loss: 0.2028 - val_accuracy: 0.9628\n",
      "Epoch 23/30\n",
      "106/106 [==============================] - 9s 84ms/step - loss: 1.0198e-04 - accuracy: 1.0000 - val_loss: 0.2085 - val_accuracy: 0.9628\n",
      "Epoch 24/30\n",
      "106/106 [==============================] - 9s 83ms/step - loss: 7.5888e-05 - accuracy: 1.0000 - val_loss: 0.2125 - val_accuracy: 0.9681\n",
      "Epoch 25/30\n",
      "106/106 [==============================] - 9s 83ms/step - loss: 5.9090e-05 - accuracy: 1.0000 - val_loss: 0.2165 - val_accuracy: 0.9681\n",
      "Epoch 26/30\n",
      "106/106 [==============================] - 9s 83ms/step - loss: 4.7825e-05 - accuracy: 1.0000 - val_loss: 0.2194 - val_accuracy: 0.9681\n",
      "Epoch 27/30\n",
      "106/106 [==============================] - 9s 83ms/step - loss: 3.9232e-05 - accuracy: 1.0000 - val_loss: 0.2223 - val_accuracy: 0.9681\n",
      "Epoch 28/30\n",
      "106/106 [==============================] - 9s 83ms/step - loss: 3.2984e-05 - accuracy: 1.0000 - val_loss: 0.2246 - val_accuracy: 0.9681\n",
      "Epoch 29/30\n",
      "106/106 [==============================] - 9s 83ms/step - loss: 2.8061e-05 - accuracy: 1.0000 - val_loss: 0.2270 - val_accuracy: 0.9681\n",
      "Epoch 30/30\n",
      "106/106 [==============================] - 9s 82ms/step - loss: 2.4193e-05 - accuracy: 1.0000 - val_loss: 0.2288 - val_accuracy: 0.9681\n"
     ]
    }
   ],
   "source": [
    "history_model_cnn = model_cnn.fit(train_data,\n",
    "               epochs = 30,\n",
    "               steps_per_epoch = int(len(train_data)),\n",
    "               validation_data = test_data,\n",
    "               validation_steps = int(len(test_data))\n",
    "               )"
   ]
  },
  {
   "cell_type": "code",
   "execution_count": null,
   "id": "171a8c7b",
   "metadata": {},
   "outputs": [],
   "source": [
    "##save the model\n",
    "model_cnn.save(\"model_cnn.h5\")"
   ]
  },
  {
   "cell_type": "code",
   "execution_count": 12,
   "id": "e192678e",
   "metadata": {},
   "outputs": [],
   "source": [
    "##load saved model\n",
    "model_cnn_2 = tf.keras.models.load_model(\"model_cnn.h5\")"
   ]
  },
  {
   "cell_type": "code",
   "execution_count": 13,
   "id": "4a04d331",
   "metadata": {},
   "outputs": [
    {
     "name": "stdout",
     "output_type": "stream",
     "text": [
      "Model: \"model_1\"\n",
      "_________________________________________________________________\n",
      " Layer (type)                Output Shape              Param #   \n",
      "=================================================================\n",
      " input_1 (InputLayer)        [(None, 240, 240, 1)]     0         \n",
      "                                                                 \n",
      " conv2d_3 (Conv2D)           (None, 240, 240, 16)      160       \n",
      "                                                                 \n",
      " max_pooling2d_3 (MaxPooling  (None, 120, 120, 16)     0         \n",
      " 2D)                                                             \n",
      "                                                                 \n",
      " conv2d_4 (Conv2D)           (None, 120, 120, 32)      4640      \n",
      "                                                                 \n",
      " max_pooling2d_4 (MaxPooling  (None, 60, 60, 32)       0         \n",
      " 2D)                                                             \n",
      "                                                                 \n",
      " conv2d_5 (Conv2D)           (None, 60, 60, 64)        18496     \n",
      "                                                                 \n",
      " max_pooling2d_5 (MaxPooling  (None, 30, 30, 64)       0         \n",
      " 2D)                                                             \n",
      "                                                                 \n",
      " flatten_1 (Flatten)         (None, 57600)             0         \n",
      "                                                                 \n",
      " dense_2 (Dense)             (None, 4096)              235933696 \n",
      "                                                                 \n",
      " dense_3 (Dense)             (None, 1)                 4097      \n",
      "                                                                 \n",
      "=================================================================\n",
      "Total params: 235,961,089\n",
      "Trainable params: 235,961,089\n",
      "Non-trainable params: 0\n",
      "_________________________________________________________________\n"
     ]
    }
   ],
   "source": [
    "model_cnn_2.summary()"
   ]
  },
  {
   "cell_type": "code",
   "execution_count": 14,
   "id": "6702cd48",
   "metadata": {},
   "outputs": [
    {
     "name": "stderr",
     "output_type": "stream",
     "text": [
      "2023-10-27 14:04:28.424416: W tensorflow/core/platform/profile_utils/cpu_utils.cc:128] Failed to get CPU frequency: 0 Hz\n",
      "2023-10-27 14:04:28.502557: I tensorflow/core/grappler/optimizers/custom_graph_optimizer_registry.cc:113] Plugin optimizer for device_type GPU is enabled.\n"
     ]
    },
    {
     "name": "stdout",
     "output_type": "stream",
     "text": [
      "12/12 [==============================] - 1s 27ms/step - loss: 0.1847 - accuracy: 0.9707\n"
     ]
    },
    {
     "data": {
      "text/plain": [
       "[0.18467570841312408, 0.9707447290420532]"
      ]
     },
     "execution_count": 14,
     "metadata": {},
     "output_type": "execute_result"
    }
   ],
   "source": [
    "model_cnn_2.evaluate(test_data)"
   ]
  },
  {
   "cell_type": "code",
   "execution_count": 16,
   "id": "be785147",
   "metadata": {},
   "outputs": [],
   "source": [
    "##save history\n",
    "import pickle\n",
    "history_model_cnn_path = \"history/model_cnn\""
   ]
  },
  {
   "cell_type": "code",
   "execution_count": 23,
   "id": "cfd67351",
   "metadata": {},
   "outputs": [
    {
     "name": "stderr",
     "output_type": "stream",
     "text": [
      "WARNING:absl:Found untraced functions such as _jit_compiled_convolution_op, _jit_compiled_convolution_op, _jit_compiled_convolution_op while saving (showing 3 of 3). These functions will not be directly callable after loading.\n"
     ]
    },
    {
     "name": "stdout",
     "output_type": "stream",
     "text": [
      "INFO:tensorflow:Assets written to: ram://6740022f-8970-4a7a-aa38-d39fc5f2601a/assets\n"
     ]
    },
    {
     "name": "stderr",
     "output_type": "stream",
     "text": [
      "INFO:tensorflow:Assets written to: ram://6740022f-8970-4a7a-aa38-d39fc5f2601a/assets\n"
     ]
    }
   ],
   "source": [
    "with open(history_model_cnn_path, 'wb') as file_open:\n",
    "    pickle.dump(history_model_cnn, file_open)"
   ]
  },
  {
   "cell_type": "code",
   "execution_count": 17,
   "id": "d697ab7d",
   "metadata": {},
   "outputs": [],
   "source": [
    "##load history\n",
    "history_model_cnn_2 = pickle.load(open(history_model_cnn_path, \"rb\"))"
   ]
  },
  {
   "cell_type": "code",
   "execution_count": 18,
   "id": "991193ad",
   "metadata": {},
   "outputs": [
    {
     "data": {
      "text/plain": [
       "{'loss': [0.5636886954307556,\n",
       "  0.30959266424179077,\n",
       "  0.22723601758480072,\n",
       "  0.18214790523052216,\n",
       "  0.11397663503885269,\n",
       "  0.07264517992734909,\n",
       "  0.05304809659719467,\n",
       "  0.0296527948230505,\n",
       "  0.03708064183592796,\n",
       "  0.026768898591399193,\n",
       "  0.020266588777303696,\n",
       "  0.016814665868878365,\n",
       "  0.010144289582967758,\n",
       "  0.011159898713231087,\n",
       "  0.013270119205117226,\n",
       "  0.009322844445705414,\n",
       "  0.010775423608720303,\n",
       "  0.005861136596649885,\n",
       "  0.0035027579870074987,\n",
       "  0.016089145094156265,\n",
       "  0.008641881868243217,\n",
       "  0.00680790189653635,\n",
       "  0.014004693366587162,\n",
       "  0.01698734611272812,\n",
       "  0.006882610730826855],\n",
       " 'accuracy': [0.7829297184944153,\n",
       "  0.876550555229187,\n",
       "  0.9093325734138489,\n",
       "  0.9308919310569763,\n",
       "  0.9580626487731934,\n",
       "  0.9722386598587036,\n",
       "  0.9837566614151001,\n",
       "  0.9899587035179138,\n",
       "  0.9873006939888,\n",
       "  0.9911400079727173,\n",
       "  0.9914353489875793,\n",
       "  0.993798017501831,\n",
       "  0.997046709060669,\n",
       "  0.9967513680458069,\n",
       "  0.997046709060669,\n",
       "  0.997046709060669,\n",
       "  0.9961606860160828,\n",
       "  0.9976373910903931,\n",
       "  0.9988186955451965,\n",
       "  0.9949793815612793,\n",
       "  0.9979327321052551,\n",
       "  0.9982280135154724,\n",
       "  0.9946840405464172,\n",
       "  0.9946840405464172,\n",
       "  0.997342050075531],\n",
       " 'val_loss': [0.37493932247161865,\n",
       "  0.2873963713645935,\n",
       "  0.3404206931591034,\n",
       "  0.24605423212051392,\n",
       "  0.17894859611988068,\n",
       "  0.19388137757778168,\n",
       "  0.17489495873451233,\n",
       "  0.21428799629211426,\n",
       "  0.1476876586675644,\n",
       "  0.3881857693195343,\n",
       "  0.19096404314041138,\n",
       "  0.18099351227283478,\n",
       "  0.2530149221420288,\n",
       "  0.24374906718730927,\n",
       "  0.16936315596103668,\n",
       "  0.2750685214996338,\n",
       "  0.26570403575897217,\n",
       "  0.20626085996627808,\n",
       "  0.20597895979881287,\n",
       "  0.2505277991294861,\n",
       "  0.3009912669658661,\n",
       "  0.180068701505661,\n",
       "  0.39532577991485596,\n",
       "  0.2488718330860138,\n",
       "  0.22170691192150116],\n",
       " 'val_accuracy': [0.8484042882919312,\n",
       "  0.9015957713127136,\n",
       "  0.8297872543334961,\n",
       "  0.9122340679168701,\n",
       "  0.9308511018753052,\n",
       "  0.9281915426254272,\n",
       "  0.9281915426254272,\n",
       "  0.9468085765838623,\n",
       "  0.9601064324378967,\n",
       "  0.9069149494171143,\n",
       "  0.9361702799797058,\n",
       "  0.9654256105422974,\n",
       "  0.9335106611251831,\n",
       "  0.9574468731880188,\n",
       "  0.9574468731880188,\n",
       "  0.9335106611251831,\n",
       "  0.9441490173339844,\n",
       "  0.9680851697921753,\n",
       "  0.9547873139381409,\n",
       "  0.9494681358337402,\n",
       "  0.9494681358337402,\n",
       "  0.9441490173339844,\n",
       "  0.9308511018753052,\n",
       "  0.9468085765838623,\n",
       "  0.9547873139381409]}"
      ]
     },
     "execution_count": 18,
     "metadata": {},
     "output_type": "execute_result"
    }
   ],
   "source": [
    "history_model_cnn_2.history"
   ]
  },
  {
   "cell_type": "code",
   "execution_count": 19,
   "id": "65e6b3c0",
   "metadata": {},
   "outputs": [],
   "source": [
    "def plot_graph(history):\n",
    "    accuracy = history.history['accuracy']\n",
    "    loss = history.history['loss']\n",
    "    \n",
    "    val_accuracy = history.history['val_accuracy']\n",
    "    val_loss = history.history['val_loss']\n",
    "    epochs = range(0, len(history.history['loss']))\n",
    "    \n",
    "    plt.plot(epochs, accuracy, label=\"train_accuracy\")\n",
    "    plt.plot(epochs, val_accuracy, label=\"validation_accuracy\")\n",
    "    plt.title = 'Accuracy'\n",
    "    plt.xlabel = 'Epochs'\n",
    "    plt.legend()\n",
    "    \n",
    "    plt.figure()\n",
    "    plt.plot(epochs, loss, label=\"train_loss\")\n",
    "    plt.plot(epochs, val_loss, label=\"validation_loss\")\n",
    "    plt.title = \"Loss\"\n",
    "    plt.xlabel = \"Epochs\"\n",
    "    plt.legend()"
   ]
  },
  {
   "cell_type": "code",
   "execution_count": 27,
   "id": "37079d90",
   "metadata": {},
   "outputs": [
    {
     "data": {
      "image/png": "[encoded data removed]",
      "text/plain": [
       "<Figure size 640x480 with 1 Axes>"
      ]
     },
     "metadata": {},
     "output_type": "display_data"
    },
    {
     "data": {
      "image/png": "[encoded data removed]",
      "text/plain": [
       "<Figure size 640x480 with 1 Axes>"
      ]
     },
     "metadata": {},
     "output_type": "display_data"
    }
   ],
   "source": [
    "plot_graph(history_model_cnn)"
   ]
  },
  {
   "cell_type": "code",
   "execution_count": null,
   "id": "f80a345d",
   "metadata": {},
   "outputs": [],
   "source": []
  }
 ],
 "metadata": {
  "kernelspec": {
   "display_name": "tf2-gpu",
   "language": "python",
   "name": "tf2-gpu"
  },
  "language_info": {
   "codemirror_mode": {
    "name": "ipython",
    "version": 3
   },
   "file_extension": ".py",
   "mimetype": "text/x-python",
   "name": "python",
   "nbconvert_exporter": "python",
   "pygments_lexer": "ipython3",
   "version": "3.10.11"
  }
 },
 "nbformat": 4,
 "nbformat_minor": 5
}
