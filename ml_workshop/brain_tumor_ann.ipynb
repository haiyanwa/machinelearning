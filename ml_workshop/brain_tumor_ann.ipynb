{
 "cells": [
  {
   "cell_type": "code",
   "execution_count": 1,
   "id": "ab9de9b9",
   "metadata": {},
   "outputs": [],
   "source": [
    "import os\n",
    "import random\n",
    "from PIL import Image\n",
    "import numpy as np\n",
    "import matplotlib.pyplot as plt\n",
    "import pandas as pd\n",
    "import tensorflow as tf"
   ]
  },
  {
   "cell_type": "code",
   "execution_count": 2,
   "id": "5cf41f74",
   "metadata": {},
   "outputs": [],
   "source": [
    "data_path = \"/Users/hwang_1/Documents/scripts/python/ml/scripts/projects/brain_tumor/data\"\n",
    "images_dir = \"images\"\n",
    "\n",
    "image_path = os.path.join(data_path, images_dir)\n",
    "\n",
    "##get original image paths\n",
    "images_dir_ori = \"images_ori\"\n",
    "image_path_ori = os.path.join(data_path,images_dir_ori)\n",
    "\n",
    "train_dir = os.path.join(image_path, \"train\")\n",
    "val_dir = os.path.join(image_path, \"val\")\n",
    "test_dir = os.path.join(image_path, \"test\")\n",
    "\n",
    "##randomly choose 1% data for testing from both positive and negative data\n",
    "\n",
    "##training data positive folder: train/1\n",
    "##training data positive folder: train/0\n",
    "train_pos_dir = os.path.join(train_dir, \"1\")  ##positive image folder\n",
    "train_neg_dir = os.path.join(train_dir, \"0\")  ##negative image folder\n",
    "\n",
    "val_pos_dir = os.path.join(val_dir, \"1\")\n",
    "val_neg_dir = os.path.join(val_dir, \"0\")\n",
    "\n",
    "##testing data positive folder: test/1\n",
    "##testing data positive folder: test/0\n",
    "test_pos_dir = os.path.join(test_dir, \"1\")\n",
    "test_neg_dir = os.path.join(test_dir, \"0\")\n",
    "\n",
    "##get new image paths\n",
    "image_path = os.path.join(data_path,images_dir)\n",
    "\n",
    "##list all the file names\n",
    "files = os.listdir(image_path_ori)"
   ]
  },
  {
   "cell_type": "code",
   "execution_count": 3,
   "id": "ca20cc56",
   "metadata": {},
   "outputs": [
    {
     "data": {
      "text/plain": [
       "['Image1965.jpg',\n",
       " 'Image478.jpg',\n",
       " 'Image1971.jpg',\n",
       " 'Image336.jpg',\n",
       " 'Image3196.jpg',\n",
       " 'Image450.jpg',\n",
       " 'Image2288.jpg',\n",
       " 'Image1781.jpg',\n",
       " 'Image1959.jpg',\n",
       " 'Image1795.jpg']"
      ]
     },
     "execution_count": 3,
     "metadata": {},
     "output_type": "execute_result"
    }
   ],
   "source": [
    "files[0:10]"
   ]
  },
  {
   "cell_type": "code",
   "execution_count": 4,
   "id": "68b8cfad",
   "metadata": {
    "scrolled": true
   },
   "outputs": [
    {
     "data": {
      "text/html": [
       "<div>\n",
       "<style scoped>\n",
       "    .dataframe tbody tr th:only-of-type {\n",
       "        vertical-align: middle;\n",
       "    }\n",
       "\n",
       "    .dataframe tbody tr th {\n",
       "        vertical-align: top;\n",
       "    }\n",
       "\n",
       "    .dataframe thead th {\n",
       "        text-align: right;\n",
       "    }\n",
       "</style>\n",
       "<table border=\"1\" class=\"dataframe\">\n",
       "  <thead>\n",
       "    <tr style=\"text-align: right;\">\n",
       "      <th></th>\n",
       "      <th>Image</th>\n",
       "      <th>Class</th>\n",
       "      <th>Mean</th>\n",
       "      <th>Variance</th>\n",
       "      <th>Standard Deviation</th>\n",
       "      <th>Entropy</th>\n",
       "      <th>Skewness</th>\n",
       "      <th>Kurtosis</th>\n",
       "      <th>Contrast</th>\n",
       "      <th>Energy</th>\n",
       "      <th>ASM</th>\n",
       "      <th>Homogeneity</th>\n",
       "      <th>Dissimilarity</th>\n",
       "      <th>Correlation</th>\n",
       "      <th>Coarseness</th>\n",
       "    </tr>\n",
       "  </thead>\n",
       "  <tbody>\n",
       "    <tr>\n",
       "      <th>0</th>\n",
       "      <td>Image1</td>\n",
       "      <td>0</td>\n",
       "      <td>6.535339</td>\n",
       "      <td>619.587845</td>\n",
       "      <td>24.891522</td>\n",
       "      <td>0.109059</td>\n",
       "      <td>4.276477</td>\n",
       "      <td>18.900575</td>\n",
       "      <td>98.613971</td>\n",
       "      <td>0.293314</td>\n",
       "      <td>0.086033</td>\n",
       "      <td>0.530941</td>\n",
       "      <td>4.473346</td>\n",
       "      <td>0.981939</td>\n",
       "      <td>7.458341e-155</td>\n",
       "    </tr>\n",
       "    <tr>\n",
       "      <th>1</th>\n",
       "      <td>Image2</td>\n",
       "      <td>0</td>\n",
       "      <td>8.749969</td>\n",
       "      <td>805.957634</td>\n",
       "      <td>28.389393</td>\n",
       "      <td>0.266538</td>\n",
       "      <td>3.718116</td>\n",
       "      <td>14.464618</td>\n",
       "      <td>63.858816</td>\n",
       "      <td>0.475051</td>\n",
       "      <td>0.225674</td>\n",
       "      <td>0.651352</td>\n",
       "      <td>3.220072</td>\n",
       "      <td>0.988834</td>\n",
       "      <td>7.458341e-155</td>\n",
       "    </tr>\n",
       "    <tr>\n",
       "      <th>2</th>\n",
       "      <td>Image3</td>\n",
       "      <td>1</td>\n",
       "      <td>7.341095</td>\n",
       "      <td>1143.808219</td>\n",
       "      <td>33.820234</td>\n",
       "      <td>0.001467</td>\n",
       "      <td>5.061750</td>\n",
       "      <td>26.479563</td>\n",
       "      <td>81.867206</td>\n",
       "      <td>0.031917</td>\n",
       "      <td>0.001019</td>\n",
       "      <td>0.268275</td>\n",
       "      <td>5.981800</td>\n",
       "      <td>0.978014</td>\n",
       "      <td>7.458341e-155</td>\n",
       "    </tr>\n",
       "    <tr>\n",
       "      <th>3</th>\n",
       "      <td>Image4</td>\n",
       "      <td>1</td>\n",
       "      <td>5.958145</td>\n",
       "      <td>959.711985</td>\n",
       "      <td>30.979219</td>\n",
       "      <td>0.001477</td>\n",
       "      <td>5.677977</td>\n",
       "      <td>33.428845</td>\n",
       "      <td>151.229741</td>\n",
       "      <td>0.032024</td>\n",
       "      <td>0.001026</td>\n",
       "      <td>0.243851</td>\n",
       "      <td>7.700919</td>\n",
       "      <td>0.964189</td>\n",
       "      <td>7.458341e-155</td>\n",
       "    </tr>\n",
       "    <tr>\n",
       "      <th>4</th>\n",
       "      <td>Image5</td>\n",
       "      <td>0</td>\n",
       "      <td>7.315231</td>\n",
       "      <td>729.540579</td>\n",
       "      <td>27.010009</td>\n",
       "      <td>0.146761</td>\n",
       "      <td>4.283221</td>\n",
       "      <td>19.079108</td>\n",
       "      <td>174.988756</td>\n",
       "      <td>0.343849</td>\n",
       "      <td>0.118232</td>\n",
       "      <td>0.501140</td>\n",
       "      <td>6.834689</td>\n",
       "      <td>0.972789</td>\n",
       "      <td>7.458341e-155</td>\n",
       "    </tr>\n",
       "  </tbody>\n",
       "</table>\n",
       "</div>"
      ],
      "text/plain": [
       "    Image  Class      Mean     Variance  Standard Deviation   Entropy  \\\n",
       "0  Image1      0  6.535339   619.587845           24.891522  0.109059   \n",
       "1  Image2      0  8.749969   805.957634           28.389393  0.266538   \n",
       "2  Image3      1  7.341095  1143.808219           33.820234  0.001467   \n",
       "3  Image4      1  5.958145   959.711985           30.979219  0.001477   \n",
       "4  Image5      0  7.315231   729.540579           27.010009  0.146761   \n",
       "\n",
       "   Skewness   Kurtosis    Contrast    Energy       ASM  Homogeneity  \\\n",
       "0  4.276477  18.900575   98.613971  0.293314  0.086033     0.530941   \n",
       "1  3.718116  14.464618   63.858816  0.475051  0.225674     0.651352   \n",
       "2  5.061750  26.479563   81.867206  0.031917  0.001019     0.268275   \n",
       "3  5.677977  33.428845  151.229741  0.032024  0.001026     0.243851   \n",
       "4  4.283221  19.079108  174.988756  0.343849  0.118232     0.501140   \n",
       "\n",
       "   Dissimilarity  Correlation     Coarseness  \n",
       "0       4.473346     0.981939  7.458341e-155  \n",
       "1       3.220072     0.988834  7.458341e-155  \n",
       "2       5.981800     0.978014  7.458341e-155  \n",
       "3       7.700919     0.964189  7.458341e-155  \n",
       "4       6.834689     0.972789  7.458341e-155  "
      ]
     },
     "execution_count": 4,
     "metadata": {},
     "output_type": "execute_result"
    }
   ],
   "source": [
    "##read csv file for the information of this image dataset \n",
    "csv_file = \"brain_tumor.csv\"\n",
    "csv_path = os.path.join(data_path, csv_file)\n",
    "df = pd.read_csv(csv_path)\n",
    "df.head()"
   ]
  },
  {
   "cell_type": "code",
   "execution_count": 5,
   "id": "254e45ef",
   "metadata": {},
   "outputs": [],
   "source": [
    "def show_image(nparray):\n",
    "    fig = plt.figure(figsize = (3.0,7.0))\n",
    "    ax = fig.add_subplot(111)\n",
    "    ax.imshow(nparray, cmap='gray')"
   ]
  },
  {
   "cell_type": "code",
   "execution_count": 6,
   "id": "624041af",
   "metadata": {},
   "outputs": [
    {
     "name": "stdout",
     "output_type": "stream",
     "text": [
      "/Users/hwang_1/Documents/scripts/python/ml/scripts/projects/brain_tumor/data/images_ori/Image3598.jpg\n",
      "image size:  (240, 240)\n",
      "image id:  Image3598\n",
      "label:  [0]\n"
     ]
    },
    {
     "data": {
      "image/png": "[encoded data removed]",
      "text/plain": [
       "<Figure size 300x700 with 1 Axes>"
      ]
     },
     "metadata": {},
     "output_type": "display_data"
    }
   ],
   "source": [
    "###Randomly show a image from the list and find its label\n",
    "file_name = random.choice(files)\n",
    "file_path = os.path.join(image_path_ori, file_name)\n",
    "print(file_path)\n",
    "\n",
    "##Open and then show image with Pillow\n",
    "img = Image.open(file_path)\n",
    "print(\"image size: \", img.size)\n",
    "show_image(img)\n",
    "\n",
    "##get image ID from the file name\n",
    "image_id = os.path.splitext(file_name)[0]\n",
    "print(\"image id: \", image_id)\n",
    "\n",
    "##file the matching record from the csv file and get the label\n",
    "match = df[df.Image==image_id]\n",
    "print(\"label: \", match['Class'].tolist())"
   ]
  },
  {
   "cell_type": "code",
   "execution_count": 25,
   "id": "e43fb38d",
   "metadata": {
    "scrolled": true
   },
   "outputs": [
    {
     "name": "stdout",
     "output_type": "stream",
     "text": [
      "/Users/hwang_1/Documents/scripts/python/ml/scripts/projects/brain_tumor/data/images_ori/Image998.jpg\n",
      "label:  [0]\n"
     ]
    },
    {
     "data": {
      "image/png": "[encoded data removed]",
      "text/plain": [
       "<Figure size 300x700 with 1 Axes>"
      ]
     },
     "metadata": {},
     "output_type": "display_data"
    }
   ],
   "source": [
    "##show specific image with its label info\n",
    "def inspect_image(path,image_name):\n",
    "    image_file = image_name + \".jpg\"\n",
    "    file_path = os.path.join(path, image_file)\n",
    "    print(file_path)\n",
    "    img = Image.open(file_path)\n",
    "    show_image(img)\n",
    "\n",
    "    ##find the matching record from the csv file and get the label\n",
    "    match = df[df.Image==image_name]\n",
    "    print(\"label: \", match['Class'].tolist())\n",
    "    \n",
    "inspect_image(image_path_ori, \"Image998\")"
   ]
  },
  {
   "cell_type": "code",
   "execution_count": 8,
   "id": "3e62084f",
   "metadata": {},
   "outputs": [
    {
     "name": "stdout",
     "output_type": "stream",
     "text": [
      "(240, 240, 3)\n",
      "[[[241 241 241]\n",
      "  [243 243 243]\n",
      "  [242 242 242]\n",
      "  ...\n",
      "  [ 92  92  92]\n",
      "  [127 127 127]\n",
      "  [135 135 135]]\n",
      "\n",
      " [[238 238 238]\n",
      "  [242 242 242]\n",
      "  [242 242 242]\n",
      "  ...\n",
      "  [108 108 108]\n",
      "  [112 112 112]\n",
      "  [135 135 135]]\n",
      "\n",
      " [[232 232 232]\n",
      "  [238 238 238]\n",
      "  [242 242 242]\n",
      "  ...\n",
      "  [123 123 123]\n",
      "  [110 110 110]\n",
      "  [125 125 125]]\n",
      "\n",
      " ...\n",
      "\n",
      " [[225 225 225]\n",
      "  [207 207 207]\n",
      "  [217 217 217]\n",
      "  ...\n",
      "  [126 126 126]\n",
      "  [  0   0   0]\n",
      "  [  0   0   0]]\n",
      "\n",
      " [[215 215 215]\n",
      "  [  4   4   4]\n",
      "  [  0   0   0]\n",
      "  ...\n",
      "  [  7   7   7]\n",
      "  [  0   0   0]\n",
      "  [  9   9   9]]\n",
      "\n",
      " [[  0   0   0]\n",
      "  [  0   0   0]\n",
      "  [ 10  10  10]\n",
      "  ...\n",
      "  [  0   0   0]\n",
      "  [  5   5   5]\n",
      "  [  0   0   0]]]\n"
     ]
    }
   ],
   "source": [
    "from numpy import asarray\n",
    "numpydata = asarray(img)\n",
    "print(numpydata.shape)\n",
    "print(numpydata[110:150,100:120])"
   ]
  },
  {
   "cell_type": "code",
   "execution_count": 9,
   "id": "951ea5ba",
   "metadata": {},
   "outputs": [
    {
     "name": "stdout",
     "output_type": "stream",
     "text": [
      "2.9.0\n"
     ]
    }
   ],
   "source": [
    "##show tensorflow version\n",
    "print(tf.__version__)"
   ]
  },
  {
   "cell_type": "markdown",
   "id": "d58d19e3",
   "metadata": {},
   "source": [
    "Use image_dataset_from_directory from tf.keras.preprocessing\n",
    "\n",
    "Link: \n",
    "https://www.tensorflow.org/api_docs/python/tf/keras/utils/image_dataset_from_directory"
   ]
  },
  {
   "cell_type": "code",
   "execution_count": 10,
   "id": "5a8e085c",
   "metadata": {},
   "outputs": [
    {
     "name": "stdout",
     "output_type": "stream",
     "text": [
      "Found 3386 files belonging to 2 classes.\n",
      "Metal device set to: Apple M2 Max\n"
     ]
    },
    {
     "name": "stderr",
     "output_type": "stream",
     "text": [
      "2023-10-28 21:16:35.146275: I tensorflow/core/common_runtime/pluggable_device/pluggable_device_factory.cc:305] Could not identify NUMA node of platform GPU ID 0, defaulting to 0. Your kernel may not have been built with NUMA support.\n",
      "2023-10-28 21:16:35.146400: I tensorflow/core/common_runtime/pluggable_device/pluggable_device_factory.cc:271] Created TensorFlow device (/job:localhost/replica:0/task:0/device:GPU:0 with 0 MB memory) -> physical PluggableDevice (device: 0, name: METAL, pci bus id: <undefined>)\n"
     ]
    }
   ],
   "source": [
    "##generate a dataset from the images folder\n",
    "##use labels=\"inferred\" to get label from the folder name (0,1)\n",
    "##color_mode='grayscale' will change 3 color channels to 1 channel\n",
    "##the dataset is split into many small batches, batch_size specifies the number of data in each batch\n",
    "train_data = tf.keras.preprocessing.image_dataset_from_directory(directory=train_dir,\n",
    "                                                           image_size=(240,240),\n",
    "                                                           labels=\"inferred\",\n",
    "                                                           class_names=None,\n",
    "                                                           label_mode=\"binary\",\n",
    "                                                           color_mode='grayscale',\n",
    "                                                           batch_size=32)"
   ]
  },
  {
   "cell_type": "code",
   "execution_count": 11,
   "id": "5e2de3f6",
   "metadata": {},
   "outputs": [
    {
     "name": "stdout",
     "output_type": "stream",
     "text": [
      "Found 188 files belonging to 2 classes.\n"
     ]
    }
   ],
   "source": [
    "val_data = tf.keras.preprocessing.image_dataset_from_directory(directory=val_dir,\n",
    "                                                           image_size=(240,240),\n",
    "                                                           labels=\"inferred\",\n",
    "                                                           class_names=None,\n",
    "                                                           label_mode=\"binary\",\n",
    "                                                           color_mode='grayscale',\n",
    "                                                           batch_size=32)"
   ]
  },
  {
   "cell_type": "code",
   "execution_count": 12,
   "id": "71193316",
   "metadata": {},
   "outputs": [
    {
     "name": "stdout",
     "output_type": "stream",
     "text": [
      "Found 188 files belonging to 2 classes.\n"
     ]
    }
   ],
   "source": [
    "test_data = tf.keras.preprocessing.image_dataset_from_directory(directory=test_dir,\n",
    "                                                           image_size=(240,240),\n",
    "                                                           labels=\"inferred\",\n",
    "                                                           class_names=None,\n",
    "                                                           label_mode=\"binary\",\n",
    "                                                           color_mode='grayscale',\n",
    "                                                           batch_size=32)"
   ]
  },
  {
   "cell_type": "code",
   "execution_count": 13,
   "id": "1cb46fbf",
   "metadata": {},
   "outputs": [],
   "source": [
    "##normalize image data\n",
    "def normalize(image,label):\n",
    "    image = tf.cast(image/255.,tf.float16)\n",
    "    label = tf.cast(label,tf.float16)\n",
    "    return image,label"
   ]
  },
  {
   "cell_type": "code",
   "execution_count": 14,
   "id": "ec091895",
   "metadata": {},
   "outputs": [],
   "source": [
    "##normalize training data\n",
    "train_data = train_data.map(normalize)"
   ]
  },
  {
   "cell_type": "code",
   "execution_count": 15,
   "id": "3a8b8763",
   "metadata": {},
   "outputs": [],
   "source": [
    "val_data = val_data.map(normalize)"
   ]
  },
  {
   "cell_type": "code",
   "execution_count": 16,
   "id": "4d4d2c01",
   "metadata": {},
   "outputs": [],
   "source": [
    "test_data = test_data.map(normalize)"
   ]
  },
  {
   "cell_type": "code",
   "execution_count": 17,
   "id": "6ff2e656",
   "metadata": {},
   "outputs": [
    {
     "data": {
      "text/plain": [
       "<MapDataset element_spec=(TensorSpec(shape=(None, 240, 240, 1), dtype=tf.float16, name=None), TensorSpec(shape=(None, 1), dtype=tf.float16, name=None))>"
      ]
     },
     "execution_count": 17,
     "metadata": {},
     "output_type": "execute_result"
    }
   ],
   "source": [
    "train_data"
   ]
  },
  {
   "cell_type": "code",
   "execution_count": 18,
   "id": "ee30ddd1",
   "metadata": {},
   "outputs": [],
   "source": [
    "from tensorflow.keras.layers import Input, Flatten, Dense\n",
    "from tensorflow.keras import Model"
   ]
  },
  {
   "cell_type": "code",
   "execution_count": 19,
   "id": "9e46d37f",
   "metadata": {},
   "outputs": [],
   "source": [
    "##input data\n",
    "input = Input(shape=(240, 240, 1))"
   ]
  },
  {
   "cell_type": "markdown",
   "id": "51e74902",
   "metadata": {},
   "source": [
    "Dense layer\n",
    "https://www.tensorflow.org/api_docs/python/tf/keras/layers/Dense"
   ]
  },
  {
   "cell_type": "code",
   "execution_count": 20,
   "id": "48aa4851",
   "metadata": {},
   "outputs": [
    {
     "data": {
      "text/plain": [
       "(None, 1)"
      ]
     },
     "execution_count": 20,
     "metadata": {},
     "output_type": "execute_result"
    }
   ],
   "source": [
    "##build ann model\n",
    "model_ann = tf.keras.models.Sequential([\n",
    "    tf.keras.layers.Flatten(input_shape=(240, 240, 1)),  \n",
    "    tf.keras.layers.Dense(64, activation='relu'),\n",
    "    tf.keras.layers.Dense(32, activation='relu'),\n",
    "    tf.keras.layers.Dense(16, activation='relu'),\n",
    "    tf.keras.layers.Dense(1, activation=\"sigmoid\")\n",
    "])\n",
    "model_ann.output_shape"
   ]
  },
  {
   "cell_type": "code",
   "execution_count": 21,
   "id": "ea03c156",
   "metadata": {},
   "outputs": [
    {
     "name": "stdout",
     "output_type": "stream",
     "text": [
      "Model: \"sequential\"\n",
      "_________________________________________________________________\n",
      " Layer (type)                Output Shape              Param #   \n",
      "=================================================================\n",
      " flatten (Flatten)           (None, 57600)             0         \n",
      "                                                                 \n",
      " dense (Dense)               (None, 64)                3686464   \n",
      "                                                                 \n",
      " dense_1 (Dense)             (None, 32)                2080      \n",
      "                                                                 \n",
      " dense_2 (Dense)             (None, 16)                528       \n",
      "                                                                 \n",
      " dense_3 (Dense)             (None, 1)                 17        \n",
      "                                                                 \n",
      "=================================================================\n",
      "Total params: 3,689,089\n",
      "Trainable params: 3,689,089\n",
      "Non-trainable params: 0\n",
      "_________________________________________________________________\n"
     ]
    }
   ],
   "source": [
    "model_ann.summary()"
   ]
  },
  {
   "cell_type": "code",
   "execution_count": 22,
   "id": "5613730c",
   "metadata": {},
   "outputs": [],
   "source": [
    "model_ann.compile(loss=tf.keras.losses.BinaryCrossentropy(),\n",
    "                optimizer=tf.keras.optimizers.Adam(),\n",
    "                metrics=[\"accuracy\"]\n",
    "                )"
   ]
  },
  {
   "cell_type": "code",
   "execution_count": 23,
   "id": "5d493b54",
   "metadata": {},
   "outputs": [
    {
     "name": "stdout",
     "output_type": "stream",
     "text": [
      "Epoch 1/30\n"
     ]
    },
    {
     "name": "stderr",
     "output_type": "stream",
     "text": [
      "2023-10-28 21:16:50.036934: W tensorflow/core/platform/profile_utils/cpu_utils.cc:128] Failed to get CPU frequency: 0 Hz\n",
      "2023-10-28 21:16:50.218985: I tensorflow/core/grappler/optimizers/custom_graph_optimizer_registry.cc:113] Plugin optimizer for device_type GPU is enabled.\n"
     ]
    },
    {
     "name": "stdout",
     "output_type": "stream",
     "text": [
      "106/106 [==============================] - 2s 19ms/step - loss: 0.5796 - accuracy: 0.7357 - val_loss: 0.4535 - val_accuracy: 0.8245\n",
      "Epoch 2/30\n",
      "  1/106 [..............................] - ETA: 3s - loss: 0.5335 - accuracy: 0.7500"
     ]
    },
    {
     "name": "stderr",
     "output_type": "stream",
     "text": [
      "2023-10-28 21:16:52.283710: I tensorflow/core/grappler/optimizers/custom_graph_optimizer_registry.cc:113] Plugin optimizer for device_type GPU is enabled.\n"
     ]
    },
    {
     "name": "stdout",
     "output_type": "stream",
     "text": [
      "106/106 [==============================] - 2s 18ms/step - loss: 0.4520 - accuracy: 0.7933 - val_loss: 0.3968 - val_accuracy: 0.8245\n",
      "Epoch 3/30\n",
      "106/106 [==============================] - 2s 18ms/step - loss: 0.4214 - accuracy: 0.8057 - val_loss: 0.3549 - val_accuracy: 0.8457\n",
      "Epoch 4/30\n",
      "106/106 [==============================] - 2s 18ms/step - loss: 0.3898 - accuracy: 0.8201 - val_loss: 0.4912 - val_accuracy: 0.7872\n",
      "Epoch 5/30\n",
      "106/106 [==============================] - 2s 18ms/step - loss: 0.3822 - accuracy: 0.8287 - val_loss: 0.4249 - val_accuracy: 0.7819\n",
      "Epoch 6/30\n",
      "106/106 [==============================] - 2s 18ms/step - loss: 0.3635 - accuracy: 0.8370 - val_loss: 0.2984 - val_accuracy: 0.8723\n",
      "Epoch 7/30\n",
      "106/106 [==============================] - 2s 18ms/step - loss: 0.3286 - accuracy: 0.8579 - val_loss: 0.3308 - val_accuracy: 0.8351\n",
      "Epoch 8/30\n",
      "106/106 [==============================] - 2s 18ms/step - loss: 0.3045 - accuracy: 0.8715 - val_loss: 0.2656 - val_accuracy: 0.8777\n",
      "Epoch 9/30\n",
      "106/106 [==============================] - 2s 18ms/step - loss: 0.2902 - accuracy: 0.8748 - val_loss: 0.3177 - val_accuracy: 0.8564\n",
      "Epoch 10/30\n",
      "106/106 [==============================] - 2s 18ms/step - loss: 0.2716 - accuracy: 0.8833 - val_loss: 0.2537 - val_accuracy: 0.8883\n",
      "Epoch 11/30\n",
      "106/106 [==============================] - 2s 17ms/step - loss: 0.2525 - accuracy: 0.8928 - val_loss: 0.2738 - val_accuracy: 0.8777\n",
      "Epoch 12/30\n",
      "106/106 [==============================] - 2s 18ms/step - loss: 0.2631 - accuracy: 0.8839 - val_loss: 0.2336 - val_accuracy: 0.8777\n",
      "Epoch 13/30\n",
      "106/106 [==============================] - 2s 18ms/step - loss: 0.2139 - accuracy: 0.9076 - val_loss: 0.2447 - val_accuracy: 0.8989\n",
      "Epoch 14/30\n",
      "106/106 [==============================] - 2s 18ms/step - loss: 0.2106 - accuracy: 0.9084 - val_loss: 0.2415 - val_accuracy: 0.8989\n",
      "Epoch 15/30\n",
      "106/106 [==============================] - 2s 18ms/step - loss: 0.1998 - accuracy: 0.9173 - val_loss: 0.2912 - val_accuracy: 0.8351\n",
      "Epoch 16/30\n",
      "106/106 [==============================] - 2s 18ms/step - loss: 0.1658 - accuracy: 0.9403 - val_loss: 0.1736 - val_accuracy: 0.9149\n",
      "Epoch 17/30\n",
      "106/106 [==============================] - 2s 19ms/step - loss: 0.1757 - accuracy: 0.9259 - val_loss: 0.2661 - val_accuracy: 0.8617\n",
      "Epoch 18/30\n",
      "106/106 [==============================] - 2s 18ms/step - loss: 0.1601 - accuracy: 0.9383 - val_loss: 0.2169 - val_accuracy: 0.9096\n",
      "Epoch 19/30\n",
      "106/106 [==============================] - 2s 18ms/step - loss: 0.1539 - accuracy: 0.9383 - val_loss: 0.1624 - val_accuracy: 0.9362\n",
      "Epoch 20/30\n",
      "106/106 [==============================] - 2s 18ms/step - loss: 0.1399 - accuracy: 0.9471 - val_loss: 0.2776 - val_accuracy: 0.9096\n",
      "Epoch 21/30\n",
      "106/106 [==============================] - 2s 18ms/step - loss: 0.1750 - accuracy: 0.9330 - val_loss: 0.3266 - val_accuracy: 0.8989\n",
      "Epoch 22/30\n",
      "106/106 [==============================] - 2s 18ms/step - loss: 0.1173 - accuracy: 0.9566 - val_loss: 0.1733 - val_accuracy: 0.9202\n",
      "Epoch 23/30\n",
      "106/106 [==============================] - 2s 18ms/step - loss: 0.1234 - accuracy: 0.9530 - val_loss: 0.2409 - val_accuracy: 0.9149\n",
      "Epoch 24/30\n",
      "106/106 [==============================] - 2s 18ms/step - loss: 0.0823 - accuracy: 0.9687 - val_loss: 0.2264 - val_accuracy: 0.8989\n",
      "Epoch 25/30\n",
      "106/106 [==============================] - 2s 18ms/step - loss: 0.0824 - accuracy: 0.9678 - val_loss: 0.2239 - val_accuracy: 0.9202\n",
      "Epoch 26/30\n",
      "106/106 [==============================] - 2s 18ms/step - loss: 0.0906 - accuracy: 0.9672 - val_loss: 0.2400 - val_accuracy: 0.9202\n",
      "Epoch 27/30\n",
      "106/106 [==============================] - 2s 18ms/step - loss: 0.0653 - accuracy: 0.9761 - val_loss: 0.2456 - val_accuracy: 0.8936\n",
      "Epoch 28/30\n",
      "106/106 [==============================] - 2s 18ms/step - loss: 0.0866 - accuracy: 0.9669 - val_loss: 0.2502 - val_accuracy: 0.9309\n",
      "Epoch 29/30\n",
      "106/106 [==============================] - 2s 18ms/step - loss: 0.0676 - accuracy: 0.9758 - val_loss: 0.1858 - val_accuracy: 0.9202\n",
      "Epoch 30/30\n",
      "106/106 [==============================] - 2s 18ms/step - loss: 0.1068 - accuracy: 0.9616 - val_loss: 0.2329 - val_accuracy: 0.9309\n"
     ]
    }
   ],
   "source": [
    "history_model_ann = model_ann.fit(train_data,\n",
    "                               epochs = 30,\n",
    "                               steps_per_epoch = int(len(train_data)),\n",
    "                               validation_data = val_data,\n",
    "                               validation_steps= int(len(val_data))\n",
    "                               )"
   ]
  },
  {
   "cell_type": "code",
   "execution_count": 31,
   "id": "e6681b41",
   "metadata": {},
   "outputs": [
    {
     "data": {
      "text/plain": [
       "{'loss': [0.6815382838249207,\n",
       "  0.43662357330322266,\n",
       "  0.3869544267654419,\n",
       "  0.3605130612850189,\n",
       "  0.34459295868873596,\n",
       "  0.31075865030288696,\n",
       "  0.3091834485530853,\n",
       "  0.30934280157089233,\n",
       "  0.2492361217737198,\n",
       "  0.22842104732990265,\n",
       "  0.2498708963394165,\n",
       "  0.21487154066562653,\n",
       "  0.19618868827819824,\n",
       "  0.16401734948158264,\n",
       "  0.1364230066537857,\n",
       "  0.16118961572647095,\n",
       "  0.1210983619093895,\n",
       "  0.14833374321460724,\n",
       "  0.2224595844745636,\n",
       "  0.09481155127286911,\n",
       "  0.10074310749769211,\n",
       "  0.08243398368358612,\n",
       "  0.17627735435962677,\n",
       "  0.08096366375684738,\n",
       "  0.08161133527755737],\n",
       " 'accuracy': [0.7238630056381226,\n",
       "  0.8018311262130737,\n",
       "  0.8266391158103943,\n",
       "  0.8437684774398804,\n",
       "  0.8573538661003113,\n",
       "  0.8638511896133423,\n",
       "  0.8676905035972595,\n",
       "  0.862669825553894,\n",
       "  0.8989958763122559,\n",
       "  0.9072652459144592,\n",
       "  0.8927938938140869,\n",
       "  0.9081512689590454,\n",
       "  0.9190785884857178,\n",
       "  0.936798632144928,\n",
       "  0.9468399882316589,\n",
       "  0.9385706186294556,\n",
       "  0.9527466297149658,\n",
       "  0.9421146512031555,\n",
       "  0.9161252379417419,\n",
       "  0.9648553133010864,\n",
       "  0.9633786678314209,\n",
       "  0.9716479778289795,\n",
       "  0.9323686361312866,\n",
       "  0.9710573554039001,\n",
       "  0.9660366773605347],\n",
       " 'val_loss': [0.3932785093784332,\n",
       "  0.5722140669822693,\n",
       "  0.46871310472488403,\n",
       "  0.2966649532318115,\n",
       "  0.38290974497795105,\n",
       "  0.27489519119262695,\n",
       "  0.26283204555511475,\n",
       "  0.2585359811782837,\n",
       "  0.2615806758403778,\n",
       "  0.32245898246765137,\n",
       "  0.5368417501449585,\n",
       "  0.22311173379421234,\n",
       "  0.2088903933763504,\n",
       "  0.21318542957305908,\n",
       "  0.2155131846666336,\n",
       "  0.1886659860610962,\n",
       "  0.19821932911872864,\n",
       "  0.46465930342674255,\n",
       "  0.21067188680171967,\n",
       "  0.18213066458702087,\n",
       "  0.2838340699672699,\n",
       "  0.23606868088245392,\n",
       "  0.17109213769435883,\n",
       "  0.2434927523136139,\n",
       "  0.2033350169658661],\n",
       " 'val_accuracy': [0.8457447290420532,\n",
       "  0.6808511018753052,\n",
       "  0.8085106611251831,\n",
       "  0.8829787969589233,\n",
       "  0.8244681358337402,\n",
       "  0.8829787969589233,\n",
       "  0.8776596188545227,\n",
       "  0.9042553901672363,\n",
       "  0.8776596188545227,\n",
       "  0.8510638475418091,\n",
       "  0.7765957713127136,\n",
       "  0.9095745086669922,\n",
       "  0.9148936867713928,\n",
       "  0.8989362120628357,\n",
       "  0.9148936867713928,\n",
       "  0.9255319833755493,\n",
       "  0.9148936867713928,\n",
       "  0.8191489577293396,\n",
       "  0.9148936867713928,\n",
       "  0.9042553901672363,\n",
       "  0.9202128052711487,\n",
       "  0.9361702799797058,\n",
       "  0.9255319833755493,\n",
       "  0.8882979154586792,\n",
       "  0.9095745086669922]}"
      ]
     },
     "execution_count": 31,
     "metadata": {},
     "output_type": "execute_result"
    }
   ],
   "source": [
    "history_model_ann.history"
   ]
  },
  {
   "cell_type": "code",
   "execution_count": 32,
   "id": "a51a5c57",
   "metadata": {},
   "outputs": [],
   "source": [
    "def plot_graph(history):\n",
    "    accuracy = history.history['accuracy']\n",
    "    loss = history.history['loss']\n",
    "    \n",
    "    val_accuracy = history.history['val_accuracy']\n",
    "    val_loss = history.history['val_loss']\n",
    "    epochs = range(0, len(history.history['loss']))\n",
    "    \n",
    "    plt.plot(epochs, accuracy, label=\"train_accuracy\")\n",
    "    plt.plot(epochs, val_accuracy, label=\"validation_accuracy\")\n",
    "    plt.title = 'Accuracy'\n",
    "    plt.xlabel = 'Epochs'\n",
    "    plt.legend()\n",
    "    \n",
    "    plt.figure()\n",
    "    plt.plot(epochs, loss, label=\"train_loss\")\n",
    "    plt.plot(epochs, val_loss, label=\"validation_loss\")\n",
    "    plt.title = \"Loss\"\n",
    "    plt.xlabel = \"Epochs\"\n",
    "    plt.legend()"
   ]
  },
  {
   "cell_type": "code",
   "execution_count": 33,
   "id": "cf7528d0",
   "metadata": {},
   "outputs": [
    {
     "data": {
      "image/png": "[encoded data removed]",
      "text/plain": [
       "<Figure size 640x480 with 1 Axes>"
      ]
     },
     "metadata": {},
     "output_type": "display_data"
    },
    {
     "data": {
      "image/png": "[encoded data removed]",
      "text/plain": [
       "<Figure size 640x480 with 1 Axes>"
      ]
     },
     "metadata": {},
     "output_type": "display_data"
    }
   ],
   "source": [
    "plot_graph(history_model_ann)"
   ]
  },
  {
   "cell_type": "code",
   "execution_count": 34,
   "id": "c4007f50",
   "metadata": {},
   "outputs": [
    {
     "name": "stdout",
     "output_type": "stream",
     "text": [
      "6/6 [==============================] - 0s 17ms/step - loss: 0.2087 - accuracy: 0.9521\n"
     ]
    },
    {
     "data": {
      "text/plain": [
       "[0.20873869955539703, 0.9521276950836182]"
      ]
     },
     "execution_count": 34,
     "metadata": {},
     "output_type": "execute_result"
    }
   ],
   "source": [
    "##Use test data to test the model\n",
    "model_ann.evaluate(test_data)"
   ]
  },
  {
   "cell_type": "code",
   "execution_count": null,
   "id": "9a6c8550",
   "metadata": {},
   "outputs": [],
   "source": []
  }
 ],
 "metadata": {
  "kernelspec": {
   "display_name": "tf2-gpu",
   "language": "python",
   "name": "tf2-gpu"
  },
  "language_info": {
   "codemirror_mode": {
    "name": "ipython",
    "version": 3
   },
   "file_extension": ".py",
   "mimetype": "text/x-python",
   "name": "python",
   "nbconvert_exporter": "python",
   "pygments_lexer": "ipython3",
   "version": "3.10.11"
  }
 },
 "nbformat": 4,
 "nbformat_minor": 5
}
