{
 "cells": [
  {
   "cell_type": "code",
   "execution_count": 129,
   "metadata": {
    "collapsed": false
   },
   "outputs": [],
   "source": [
    "from IPython.display import HTML\n",
    "import numpy as np\n",
    "import pandas as pd\n",
    "import html5lib\n",
    "import matplotlib as plt\n",
    "from sklearn import preprocessing\n",
    "from sklearn.model_selection import train_test_split\n",
    "\n",
    "from sklearn import decomposition\n",
    "from sklearn import svm\n",
    "from sklearn.svm import SVC\n",
    "from sklearn.metrics import accuracy_score\n",
    "from sklearn.neural_network import MLPClassifier\n",
    "\n",
    "import requests\n",
    "from bs4 import BeautifulSoup\n",
    "import csv\n",
    "import re # regular expressions library\n",
    "\n",
    "%matplotlib inline\n",
    "\n"
   ]
  },
  {
   "cell_type": "code",
   "execution_count": 72,
   "metadata": {
    "collapsed": false
   },
   "outputs": [],
   "source": [
    "data_url = 'https://archive.ics.uci.edu/ml/machine-learning-databases/heart-disease/reprocessed.hungarian.data'\n",
    "\n",
    "webpage = requests.get(data_url)\n",
    "\n",
    "webcontents = webpage.text # this returns the webpage html content\n",
    "\n",
    "#print(data)\n",
    "list = []\n",
    "list=re.split(r'\\n', webcontents)\n",
    "datalist = []\n",
    "data = []\n",
    "for i in range(len(list)):\n",
    "    datalist = re.split(r'\\s+', list[i])\n",
    "    data.append(datalist)\n",
    "    #print(datalist)\n",
    "\n",
    "#print(len(data[0]))"
   ]
  },
  {
   "cell_type": "code",
   "execution_count": 68,
   "metadata": {
    "collapsed": false
   },
   "outputs": [],
   "source": [
    "name_url = 'https://archive.ics.uci.edu/ml/machine-learning-databases/heart-disease/heart-disease.names'\n",
    "webpage = requests.get(name_url)\n",
    "contents = webpage.text\n",
    "#print(contents)"
   ]
  },
  {
   "cell_type": "code",
   "execution_count": 44,
   "metadata": {
    "collapsed": false
   },
   "outputs": [
    {
     "name": "stdout",
     "output_type": "stream",
     "text": [
      "0 age\n",
      "1 sex\n",
      "2 cp\n",
      "3 trestbps\n",
      "4 chol\n",
      "5 fbs\n",
      "6 restecg\n",
      "7 thalach\n",
      "8 exang\n",
      "9 oldpeak\n",
      "10 slope\n",
      "11 ca\n",
      "12 thal\n",
      "13 num\n"
     ]
    }
   ],
   "source": [
    "#-- 1. #3  (age) \n",
    "matched = []\n",
    "matched = re.findall(r'--\\s\\d+\\.\\s\\#\\d+\\s+\\(\\w+\\)', contents)\n",
    "taglist = []\n",
    "for i in range(len(matched)):\n",
    "    m = re.match(r\"--\\s\\d+\\.\\s\\#\\d+\\s+\\((\\w+)\\)\", matched[i])\n",
    "    print(i,m.group(1) )\n",
    "    taglist.append(m.group(1))"
   ]
  },
  {
   "cell_type": "code",
   "execution_count": 63,
   "metadata": {
    "collapsed": false
   },
   "outputs": [
    {
     "name": "stdout",
     "output_type": "stream",
     "text": [
      "<class 'list'>\n",
      "  age sex cp trestbps chol fbs restecg thalach exang oldpeak slope  ca thal  \\\n",
      "0  40   1  2      140  289   0       0     172     0       0    -9  -9   -9   \n",
      "1  49   0  3      160  180   0       0     156     0       1     2  -9   -9   \n",
      "2  37   1  2      130  283   0       1      98     0       0    -9  -9   -9   \n",
      "3  48   0  4      138  214   0       0     108     1     1.5     2  -9   -9   \n",
      "4  54   1  3      150   -9   0       0     122     0       0    -9  -9   -9   \n",
      "\n",
      "  num  \n",
      "0   0  \n",
      "1   1  \n",
      "2   0  \n",
      "3   3  \n",
      "4   0  \n"
     ]
    },
    {
     "data": {
      "text/plain": [
       "(296, 14)"
      ]
     },
     "execution_count": 63,
     "metadata": {},
     "output_type": "execute_result"
    }
   ],
   "source": [
    "print(type(taglist))\n",
    "df = pd.DataFrame.from_records(data, columns=taglist)\n",
    "print(df.head())"
   ]
  },
  {
   "cell_type": "code",
   "execution_count": 66,
   "metadata": {
    "collapsed": false
   },
   "outputs": [
    {
     "data": {
      "text/plain": [
       "(294, 14)"
      ]
     },
     "execution_count": 66,
     "metadata": {},
     "output_type": "execute_result"
    }
   ],
   "source": [
    "##drop na\n",
    "df = df.dropna(axis=0, how='any')\n",
    "df.shape"
   ]
  },
  {
   "cell_type": "code",
   "execution_count": 114,
   "metadata": {
    "collapsed": false
   },
   "outputs": [],
   "source": [
    "feature_cols = ['age', 'sex', 'cp', 'trestbps', 'chol', 'fbs', 'restecg', 'thalach', 'exang', 'oldpeak', 'slope', 'ca', 'thal']\n",
    "X = df[feature_cols]\n",
    "X = preprocessing.scale(X)\n",
    "y = df['num']\n",
    "#print(X[0:10])"
   ]
  },
  {
   "cell_type": "code",
   "execution_count": 115,
   "metadata": {
    "collapsed": false
   },
   "outputs": [],
   "source": [
    "X_train, X_test, y_train, y_test= train_test_split(X, y, test_size=0.2, random_state=5)"
   ]
  },
  {
   "cell_type": "code",
   "execution_count": 137,
   "metadata": {
    "collapsed": false
   },
   "outputs": [
    {
     "name": "stdout",
     "output_type": "stream",
     "text": [
      "[ 0.22910972  0.12209178  0.09912614  0.09583057  0.08519139  0.07705091\n",
      "  0.07016747  0.06000009  0.04813019  0.03786461  0.03706467]\n",
      "[ 0.22910972  0.3512015   0.45032764  0.54615821  0.6313496   0.70840051\n",
      "  0.77856798  0.83856807  0.88669826  0.92456287  0.96162754]\n"
     ]
    }
   ],
   "source": [
    "##pick 11 because the ratio is over 95%\n",
    "pca = decomposition.PCA(n_components=11)\n",
    "pca.fit(X_train)\n",
    "X_train_pca = pca.transform(X_train)\n",
    "X_test_pca = pca.transform(X_test)\n",
    "print(pca.explained_variance_ratio_)\n",
    "print(pca.explained_variance_ratio_.cumsum())"
   ]
  },
  {
   "cell_type": "code",
   "execution_count": 138,
   "metadata": {
    "collapsed": false
   },
   "outputs": [
    {
     "name": "stdout",
     "output_type": "stream",
     "text": [
      "0.779661016949\n"
     ]
    }
   ],
   "source": [
    "my_SVM = SVC(C=1, kernel='rbf', gamma=0.1,random_state=5)\n",
    "my_SVM.fit(X_train_pca, y_train)\n",
    "y_predict_svm= my_SVM.predict(X_test_pca)\n",
    "score_svm = accuracy_score(y_test, y_predict_svm)\n",
    "print(score_svm)\n"
   ]
  },
  {
   "cell_type": "code",
   "execution_count": 132,
   "metadata": {
    "collapsed": false
   },
   "outputs": [
    {
     "data": {
      "text/plain": [
       "MLPClassifier(activation='logistic', alpha=1e-05, batch_size='auto',\n",
       "       beta_1=0.9, beta_2=0.999, early_stopping=False, epsilon=1e-08,\n",
       "       hidden_layer_sizes=(100, 20), learning_rate='constant',\n",
       "       learning_rate_init=0.02, max_iter=200, momentum=0.9,\n",
       "       nesterovs_momentum=True, power_t=0.5, random_state=5, shuffle=True,\n",
       "       solver='adam', tol=0.0001, validation_fraction=0.1, verbose=False,\n",
       "       warm_start=False)"
      ]
     },
     "execution_count": 132,
     "metadata": {},
     "output_type": "execute_result"
    }
   ],
   "source": [
    "my_ANN = MLPClassifier(hidden_layer_sizes=(100,20), activation= 'logistic', \n",
    "                       solver='adam', alpha=1e-5, random_state=5, \n",
    "                       learning_rate_init = 0.02)\n",
    "my_ANN.fit(X_train, y_train)"
   ]
  },
  {
   "cell_type": "code",
   "execution_count": 131,
   "metadata": {
    "collapsed": false
   },
   "outputs": [
    {
     "name": "stdout",
     "output_type": "stream",
     "text": [
      "0.728813559322\n"
     ]
    }
   ],
   "source": [
    "y_predict_ann = my_ANN.predict(X_test)\n",
    "score_ann = accuracy_score(y_test, y_predict_ann)\n",
    "print(score_ann)"
   ]
  },
  {
   "cell_type": "code",
   "execution_count": null,
   "metadata": {
    "collapsed": true
   },
   "outputs": [],
   "source": []
  }
 ],
 "metadata": {
  "kernelspec": {
   "display_name": "Python [Root]",
   "language": "python",
   "name": "Python [Root]"
  },
  "language_info": {
   "codemirror_mode": {
    "name": "ipython",
    "version": 3
   },
   "file_extension": ".py",
   "mimetype": "text/x-python",
   "name": "python",
   "nbconvert_exporter": "python",
   "pygments_lexer": "ipython3",
   "version": "3.5.2"
  }
 },
 "nbformat": 4,
 "nbformat_minor": 0
}
