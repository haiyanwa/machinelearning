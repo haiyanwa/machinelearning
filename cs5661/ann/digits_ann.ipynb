{
 "cells": [
  {
   "cell_type": "code",
   "execution_count": 2,
   "metadata": {
    "collapsed": false
   },
   "outputs": [],
   "source": [
    "import matplotlib.image as mpimg\n",
    "import matplotlib.pyplot as plt\n",
    "import numpy as np\n",
    "import pandas as pd\n",
    "\n",
    "from sklearn.neural_network import MLPClassifier\n",
    "from sklearn.model_selection import train_test_split\n",
    "from sklearn.model_selection import cross_val_score\n",
    "from sklearn.metrics import accuracy_score\n",
    "from sklearn import metrics\n",
    "from PIL import Image\n",
    "%matplotlib inline"
   ]
  },
  {
   "cell_type": "code",
   "execution_count": 3,
   "metadata": {
    "collapsed": false
   },
   "outputs": [],
   "source": [
    "data_dir = \"../../CS5661/HW2/\"\n",
    "label_file = data_dir + \"label.csv\"\n",
    "df = pd.read_csv(label_file)\n",
    "\n"
   ]
  },
  {
   "cell_type": "code",
   "execution_count": 16,
   "metadata": {
    "collapsed": false
   },
   "outputs": [
    {
     "name": "stdout",
     "output_type": "stream",
     "text": [
      "[0, 0, 11, 187, 210, 78, 5, 0, 13, 5, 0, 181, 252, 136, 0, 2, 0, 1, 56, 232, 255, 104, 5, 3, 0, 118, 244, 240, 255, 11, 8, 0, 18, 0, 11, 255, 242, 57, 12, 0, 0, 3, 12, 248, 255, 77, 5, 0, 9, 2, 21, 255, 255, 114, 0, 0, 0, 0, 0, 172, 251, 157, 0, 12]\n"
     ]
    }
   ],
   "source": [
    "import os.path\n",
    "#print(label_df['name of the file'])\n",
    "feature_data = []\n",
    "i_dir = data_dir + \"Digit/\"\n",
    "\n",
    "for i in range(len(df)):\n",
    "    filename = df.loc[i,'name of the file']\n",
    "    filepath = i_dir + str(filename) + \".jpg\"\n",
    "    if(os.path.isfile(filepath)):\n",
    "        #print(filepath)\n",
    "        img = Image.open(filepath)\n",
    "        feature = (np.asarray(img.getdata())).tolist()\n",
    "        if(i==1):\n",
    "            print(feature)\n",
    "        feature_data.append(feature)\n",
    "        \n",
    "df['feature'] =  feature_data  \n",
    "        "
   ]
  },
  {
   "cell_type": "code",
   "execution_count": 5,
   "metadata": {
    "collapsed": false
   },
   "outputs": [],
   "source": [
    "#Dataframe\n",
    "X = df[['feature']]\n",
    "y = df['digit']\n",
    "X_train, X_test, y_train, y_test= train_test_split(X, y, test_size=0.1, random_state=2)\n",
    "\n"
   ]
  },
  {
   "cell_type": "code",
   "execution_count": 6,
   "metadata": {
    "collapsed": false,
    "scrolled": true
   },
   "outputs": [
    {
     "name": "stdout",
     "output_type": "stream",
     "text": [
      "                                                feature\n",
      "154   [0, 0, 6, 49, 255, 45, 0, 5, 4, 2, 0, 159, 239...\n",
      "564   [0, 14, 8, 251, 167, 5, 16, 0, 15, 0, 153, 181...\n",
      "1444  [1, 3, 127, 209, 229, 63, 2, 7, 0, 87, 205, 51...\n",
      "1394  [0, 2, 31, 255, 200, 10, 0, 0, 12, 0, 62, 246,...\n",
      "1660  [3, 0, 167, 122, 0, 19, 0, 6, 0, 77, 250, 54, ...\n",
      "1368  [0, 18, 192, 255, 255, 232, 2, 0, 1, 109, 212,...\n",
      "1436  [0, 6, 0, 0, 179, 232, 32, 0, 14, 0, 7, 117, 2...\n",
      "1420  [5, 10, 196, 182, 192, 231, 95, 0, 0, 0, 228, ...\n",
      "1334  [5, 0, 12, 216, 178, 13, 0, 0, 1, 6, 0, 184, 2...\n",
      "581   [4, 0, 13, 158, 250, 102, 0, 10, 0, 0, 163, 24...\n",
      "Int64Index([154, 564, 1444, 1394, 1660, 1368, 1436, 1420, 1334, 581], dtype='int64')\n"
     ]
    }
   ],
   "source": [
    "Xdata = []\n",
    "ydata = []\n",
    "for index, row in X.iterrows():\n",
    "    Xdata.append(row['feature'])\n",
    "    \n",
    "for index, item in y.iteritems():\n",
    "    ydata.append(item)\n",
    "\n",
    "Xtrain = []\n",
    "for index, row in X_train.iterrows():\n",
    "    #print(index)\n",
    "    Xtrain.append(row['feature'])\n",
    "Xtest = []\n",
    "ytrain = []\n",
    "ytest = []\n",
    "\n",
    "for index, row in X_test.iterrows():\n",
    "    #print(index)\n",
    "    Xtest.append(row['feature'])\n",
    "\n",
    "for index, item in y_train.iteritems():\n",
    "    #print(index, item)\n",
    "    ytrain.append(item)\n",
    "\n",
    "for index, item in y_test.iteritems():\n",
    "    #print(index, item)\n",
    "    ytest.append(item)\n",
    "print(X_test[0:10])\n",
    "print(y_test.index[0:10])\n"
   ]
  },
  {
   "cell_type": "code",
   "execution_count": 7,
   "metadata": {
    "collapsed": false
   },
   "outputs": [
    {
     "data": {
      "text/plain": [
       "MLPClassifier(activation='logistic', alpha=1e-05, batch_size='auto',\n",
       "       beta_1=0.9, beta_2=0.999, early_stopping=False, epsilon=1e-08,\n",
       "       hidden_layer_sizes=(80,), learning_rate='constant',\n",
       "       learning_rate_init=0.002, max_iter=200, momentum=0.9,\n",
       "       nesterovs_momentum=True, power_t=0.5, random_state=1, shuffle=True,\n",
       "       solver='adam', tol=0.0001, validation_fraction=0.1, verbose=False,\n",
       "       warm_start=False)"
      ]
     },
     "execution_count": 7,
     "metadata": {},
     "output_type": "execute_result"
    }
   ],
   "source": [
    "my_ANN = MLPClassifier(hidden_layer_sizes=(80,), activation= 'logistic', \n",
    "                       solver='adam', alpha=1e-5, random_state=1, \n",
    "                       learning_rate_init = 0.002)\n",
    "my_ANN.fit(Xtrain, ytrain)"
   ]
  },
  {
   "cell_type": "code",
   "execution_count": 8,
   "metadata": {
    "collapsed": false
   },
   "outputs": [],
   "source": [
    "#print(my_ANN.coefs_)\n",
    "#print(my_ANN.intercepts_)"
   ]
  },
  {
   "cell_type": "code",
   "execution_count": 9,
   "metadata": {
    "collapsed": false
   },
   "outputs": [
    {
     "name": "stdout",
     "output_type": "stream",
     "text": [
      "[4, 0, 9, 1, 4, 7, 1, 5, 1, 6, 6, 7, 6, 1, 5, 5, 4, 6, 2, 7, 4, 6, 4, 1, 5, 2, 9, 5, 4, 6, 5, 6, 3, 4, 0, 9, 9, 8, 4, 6, 8, 8, 5, 7, 9, 6, 9, 6, 1, 3, 0, 1, 9, 7, 3, 3, 1, 1, 8, 8, 9, 8, 5, 4, 4, 7, 3, 5, 8, 4, 3, 1, 3, 8, 7, 3, 3, 0, 8, 7, 2, 8, 5, 3, 8, 7, 6, 4, 6, 2, 2, 0, 1, 1, 5, 3, 5, 7, 6, 8, 2, 2, 6, 4, 6, 7, 3, 7, 3, 9, 4, 7, 0, 3, 5, 8, 5, 0, 3, 9, 2, 7, 3, 2, 0, 8, 1, 9, 2, 1, 9, 1, 0, 3, 4, 3, 0, 9, 3, 2, 2, 7, 3, 1, 6, 7, 2, 8, 3, 1, 1, 6, 4, 8, 2, 1, 8, 4, 1, 3, 1, 1, 9, 5, 4, 8, 7, 4, 8, 9, 5, 7, 6, 9, 0, 0, 4, 0, 0, 4]\n",
      "[4, 0, 9, 1, 8, 7, 1, 5, 1, 6, 6, 7, 6, 1, 5, 5, 8, 6, 2, 7, 4, 6, 4, 1, 5, 2, 9, 5, 4, 6, 5, 6, 3, 4, 0, 9, 9, 8, 4, 6, 8, 1, 5, 7, 9, 6, 9, 6, 1, 3, 0, 1, 9, 7, 3, 3, 1, 1, 8, 8, 9, 8, 5, 8, 7, 8, 7, 5, 8, 4, 3, 1, 3, 8, 7, 3, 3, 0, 8, 7, 2, 8, 5, 3, 8, 7, 6, 4, 6, 2, 2, 0, 1, 1, 5, 3, 5, 7, 1, 8, 2, 2, 6, 4, 6, 7, 3, 7, 3, 9, 4, 7, 0, 3, 5, 1, 5, 0, 3, 9, 2, 7, 3, 2, 0, 8, 1, 9, 2, 1, 5, 1, 0, 3, 4, 3, 0, 8, 3, 2, 2, 7, 3, 1, 6, 7, 2, 8, 3, 1, 1, 6, 4, 8, 2, 1, 8, 4, 8, 3, 1, 1, 9, 5, 4, 9, 7, 4, 8, 9, 5, 7, 6, 9, 4, 0, 4, 0, 0, 9]\n"
     ]
    }
   ],
   "source": [
    "y_predict_ann = my_ANN.predict(Xtest)\n",
    "\n",
    "print(ytest)\n",
    "print(y_predict_ann.tolist())"
   ]
  },
  {
   "cell_type": "code",
   "execution_count": 10,
   "metadata": {
    "collapsed": false
   },
   "outputs": [
    {
     "name": "stdout",
     "output_type": "stream",
     "text": [
      "0.916666666667\n"
     ]
    }
   ],
   "source": [
    "score_ann = accuracy_score(ytest, y_predict_ann)\n",
    "print(score_ann)"
   ]
  },
  {
   "cell_type": "code",
   "execution_count": 11,
   "metadata": {
    "collapsed": false
   },
   "outputs": [
    {
     "name": "stdout",
     "output_type": "stream",
     "text": [
      "Confusion matrix:\n",
      "[[13  0  0  0  1  0  0  0  0  0]\n",
      " [ 0 21  0  0  0  0  0  0  1  0]\n",
      " [ 0  0 14  0  0  0  0  0  0  0]\n",
      " [ 0  0  0 21  0  0  0  1  0  0]\n",
      " [ 0  0  0  0 16  0  0  1  3  1]\n",
      " [ 0  0  0  0  0 16  0  0  0  0]\n",
      " [ 0  1  0  0  0  0 17  0  0  0]\n",
      " [ 0  0  0  0  0  0  0 17  1  0]\n",
      " [ 0  2  0  0  0  0  0  0 16  1]\n",
      " [ 0  0  0  0  0  1  0  0  1 14]]\n"
     ]
    }
   ],
   "source": [
    "from sklearn import metrics\n",
    "\n",
    "cm_ANN = metrics.confusion_matrix(y_test, y_predict_ann)\n",
    "\n",
    "print(\"Confusion matrix:\")\n",
    "print(cm_ANN)"
   ]
  },
  {
   "cell_type": "code",
   "execution_count": 12,
   "metadata": {
    "collapsed": false
   },
   "outputs": [
    {
     "name": "stdout",
     "output_type": "stream",
     "text": [
      "../../CS5661/HW2/Digit/1660.jpg\n",
      "label 4 predict 8\n",
      "../../CS5661/HW2/Digit/1611.jpg\n",
      "label 4 predict 8\n",
      "../../CS5661/HW2/Digit/123.jpg\n",
      "label 8 predict 1\n",
      "../../CS5661/HW2/Digit/1628.jpg\n",
      "label 4 predict 8\n",
      "../../CS5661/HW2/Digit/757.jpg\n",
      "label 4 predict 7\n",
      "../../CS5661/HW2/Digit/1552.jpg\n",
      "label 7 predict 8\n",
      "../../CS5661/HW2/Digit/1605.jpg\n",
      "label 3 predict 7\n",
      "../../CS5661/HW2/Digit/1551.jpg\n",
      "label 6 predict 1\n",
      "../../CS5661/HW2/Digit/794.jpg\n",
      "label 8 predict 1\n",
      "../../CS5661/HW2/Digit/37.jpg\n",
      "label 9 predict 5\n",
      "../../CS5661/HW2/Digit/69.jpg\n",
      "label 9 predict 8\n",
      "../../CS5661/HW2/Digit/736.jpg\n",
      "label 1 predict 8\n",
      "../../CS5661/HW2/Digit/1468.jpg\n",
      "label 8 predict 9\n",
      "../../CS5661/HW2/Digit/1573.jpg\n",
      "label 0 predict 4\n",
      "../../CS5661/HW2/Digit/1095.jpg\n",
      "label 4 predict 9\n"
     ]
    },
    {
     "data": {
      "image/png": "[encoded data removed]",
      "text/plain": [
       "<matplotlib.figure.Figure at 0x111f73cc0>"
      ]
     },
     "metadata": {},
     "output_type": "display_data"
    }
   ],
   "source": [
    "mislabeled = []\n",
    "for n in range(len(y_predict_ann)):\n",
    "    if( y_predict_ann[n] != ytest[n]):\n",
    "        #print(\"wrong prediction, index =\", y_test.index[n])\n",
    "        \n",
    "        image_file = data_dir + \"Digit/\" + str(y_test.index[n]) + \".jpg\"\n",
    "        print(image_file)\n",
    "        \n",
    "        img = mpimg.imread(image_file)\n",
    "        plt.imshow(img, cmap=plt.cm.gray_r, interpolation='nearest')\n",
    "        print(\"label\", ytest[n], \"predict\", y_predict_ann[n])\n"
   ]
  },
  {
   "cell_type": "code",
   "execution_count": 13,
   "metadata": {
    "collapsed": false
   },
   "outputs": [
    {
     "data": {
      "text/plain": [
       "<matplotlib.image.AxesImage at 0x115d45b70>"
      ]
     },
     "execution_count": 13,
     "metadata": {},
     "output_type": "execute_result"
    },
    {
     "data": {
      "image/png": "[encoded data removed]",
      "text/plain": [
       "<matplotlib.figure.Figure at 0x111cf2d30>"
      ]
     },
     "metadata": {},
     "output_type": "display_data"
    }
   ],
   "source": [
    "file = \"../../CS5661/HW2/Digit/1611.jpg\"\n",
    "img = mpimg.imread(file)\n",
    "plt.imshow(img, cmap=plt.cm.gray_r, interpolation='nearest')"
   ]
  },
  {
   "cell_type": "code",
   "execution_count": 14,
   "metadata": {
    "collapsed": false
   },
   "outputs": [
    {
     "data": {
      "text/plain": [
       "<matplotlib.image.AxesImage at 0x115d09160>"
      ]
     },
     "execution_count": 14,
     "metadata": {},
     "output_type": "execute_result"
    },
    {
     "data": {
      "image/png": "[encoded data removed]",
      "text/plain": [
       "<matplotlib.figure.Figure at 0x115d40400>"
      ]
     },
     "metadata": {},
     "output_type": "display_data"
    }
   ],
   "source": [
    "file = \"../../CS5661/HW2/Digit/123.jpg\"\n",
    "img = mpimg.imread(file)\n",
    "plt.imshow(img, cmap=plt.cm.gray_r, interpolation='nearest')"
   ]
  },
  {
   "cell_type": "code",
   "execution_count": 18,
   "metadata": {
    "collapsed": false
   },
   "outputs": [
    {
     "name": "stdout",
     "output_type": "stream",
     "text": [
      "{'hidden_layer_sizes': [(50,), (51,), (52,), (53,), (54,), (55,), (56,), (57,), (58,), (59,), (60,), (61,), (62,), (63,), (64,), (65,), (66,), (67,), (68,), (69,), (70,), (71,), (72,), (73,), (74,), (75,), (76,), (77,), (78,), (79,), (80,), (81,), (82,), (83,), (84,), (85,), (86,), (87,), (88,), (89,), (90,), (91,), (92,), (93,), (94,), (95,), (96,), (97,), (98,), (99,), (100,), (101,), (102,), (103,), (104,), (105,), (106,), (107,), (108,), (109,), (110,), (111,), (112,), (113,), (114,), (115,), (116,), (117,), (118,), (119,), (120,), (121,), (122,), (123,), (124,), (125,), (126,), (127,), (128,), (129,), (130,), (131,), (132,), (133,), (134,), (135,), (136,), (137,), (138,), (139,), (140,), (141,), (142,), (143,), (144,), (145,), (146,), (147,), (148,), (149,), (150,), (151,), (152,), (153,), (154,), (155,), (156,), (157,), (158,), (159,), (160,), (161,), (162,), (163,), (164,), (165,), (166,), (167,), (168,), (169,), (170,), (171,), (172,), (173,), (174,), (175,), (176,), (177,), (178,), (179,), (180,), (181,), (182,), (183,), (184,), (185,), (186,), (187,), (188,), (189,), (190,), (191,), (192,), (193,), (194,), (195,), (196,), (197,), (198,), (199,)]} \n",
      "\n",
      "start here\n",
      "got here\n",
      "Best score 0.958820255982\n",
      "Best param {'hidden_layer_sizes': (126,)}\n"
     ]
    }
   ],
   "source": [
    "from sklearn.model_selection import GridSearchCV\n",
    "neuron_number = [(i,) for i in range(50,200)]\n",
    "\n",
    "param_grid = dict(hidden_layer_sizes = neuron_number)\n",
    "print(param_grid,'\\n')\n",
    "\n",
    "my_ANN = MLPClassifier(activation='logistic', solver='adam', \n",
    "                                         alpha=1e-5, random_state=1, \n",
    "                                           learning_rate_init = 0.002)\n",
    "\n",
    "grid = GridSearchCV(my_ANN, param_grid, cv=10, scoring='accuracy')\n",
    "grid.fit(Xdata, ydata)\n",
    "print(\"Best score\", grid.best_score_)\n",
    "print(\"Best param\", grid.best_params_)"
   ]
  },
  {
   "cell_type": "code",
   "execution_count": null,
   "metadata": {
    "collapsed": true
   },
   "outputs": [],
   "source": []
  },
  {
   "cell_type": "code",
   "execution_count": null,
   "metadata": {
    "collapsed": true
   },
   "outputs": [],
   "source": []
  }
 ],
 "metadata": {
  "anaconda-cloud": {},
  "kernelspec": {
   "display_name": "Python [Root]",
   "language": "python",
   "name": "Python [Root]"
  },
  "language_info": {
   "codemirror_mode": {
    "name": "ipython",
    "version": 3
   },
   "file_extension": ".py",
   "mimetype": "text/x-python",
   "name": "python",
   "nbconvert_exporter": "python",
   "pygments_lexer": "ipython3",
   "version": "3.5.2"
  }
 },
 "nbformat": 4,
 "nbformat_minor": 0
}
